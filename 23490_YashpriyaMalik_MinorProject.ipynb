{
  "cells": [
    {
      "cell_type": "markdown",
      "source": [
        "# **MINOR PROJECT**"
      ],
      "metadata": {
        "id": "nOUpm77EI-Iq"
      },
      "id": "nOUpm77EI-Iq"
    },
    {
      "cell_type": "code",
      "execution_count": 98,
      "id": "b1cf3a13",
      "metadata": {
        "id": "b1cf3a13",
        "outputId": "288a9ec5-9d81-403c-820b-44abf8af869f",
        "colab": {
          "base_uri": "https://localhost:8080/"
        }
      },
      "outputs": [
        {
          "output_type": "stream",
          "name": "stdout",
          "text": [
            "Cloning into 'takehomes'...\n",
            "remote: Enumerating objects: 1768, done.\u001b[K\n",
            "remote: Counting objects: 100% (576/576), done.\u001b[K\n",
            "remote: Compressing objects: 100% (455/455), done.\u001b[K\n",
            "remote: Total 1768 (delta 169), reused 481 (delta 120), pack-reused 1192\u001b[K\n",
            "Receiving objects: 100% (1768/1768), 297.30 MiB | 18.04 MiB/s, done.\n",
            "Resolving deltas: 100% (619/619), done.\n",
            "/content/takehomes/flowcast_1/takehomes/flowcast_1\n",
            "logo.png  metadata.json  takehomefile.ipynb  transactions.json\n"
          ]
        }
      ],
      "source": [
        "!git clone --branch flowcast_1 https://github.com/interviewquery/takehomes.git\n",
        "%cd takehomes/flowcast_1\n",
        "!ls"
      ]
    },
    {
      "cell_type": "code",
      "source": [
        "import pandas as pd\n",
        "\n",
        "df = pd.read_json('transactions.json',lines=True)"
      ],
      "metadata": {
        "id": "zCsLma9TwNNh"
      },
      "id": "zCsLma9TwNNh",
      "execution_count": 99,
      "outputs": []
    },
    {
      "cell_type": "code",
      "source": [
        "df.head(20)"
      ],
      "metadata": {
        "id": "_2GcnnDUwQWs",
        "outputId": "0b334fd3-8afb-4aea-d00b-129d1b96522a",
        "colab": {
          "base_uri": "https://localhost:8080/",
          "height": 909
        }
      },
      "id": "_2GcnnDUwQWs",
      "execution_count": 100,
      "outputs": [
        {
          "output_type": "execute_result",
          "data": {
            "text/plain": [
              "    accountNumber  customerId  creditLimit  availableMoney  currentBalance  \\\n",
              "0       946817886   946817886        50000        47919.19         2080.81   \n",
              "1       318001076   318001076        50000        18138.87        31861.13   \n",
              "2       953935422   953935422        20000        15764.65         4235.35   \n",
              "3       773863988   773863988         5000         2543.92         2456.08   \n",
              "4       918205645   918205645          500           99.81          400.19   \n",
              "5       877017103   877017103         5000         2183.96         2816.04   \n",
              "6       534398540   534398540         5000         4415.57          584.43   \n",
              "7       412558887   412558887        15000         5952.29         9047.71   \n",
              "8       924273244   924273244         7500         3565.07         3934.93   \n",
              "9       271281101   271281101        20000        17534.33         2465.67   \n",
              "10      838145152   838145152        15000         5132.92         9867.08   \n",
              "11      847474815   847474815        20000        19897.76          102.24   \n",
              "12      871480523   871480523        10000         3615.08         6384.92   \n",
              "13      703733318   703733318        15000         2442.43        12557.57   \n",
              "14      527615830   527615830        20000        18478.42         1521.58   \n",
              "15      824203050   824203050         7500         7500.00            0.00   \n",
              "16      414300522   414300522        50000        49943.28           56.72   \n",
              "17      703679977   703679977        10000         5245.17         4754.83   \n",
              "18      822203001   822203001         5000         1847.11         3152.89   \n",
              "19      587156191   587156191         5000         3970.72         1029.28   \n",
              "\n",
              "    transactionDateTime  transactionAmount               merchantName  \\\n",
              "0   2016-03-23T15:30:08              18.20      Auntie Anne's #984663   \n",
              "1   2016-10-28T12:19:29              80.95      Auntie Anne's #422240   \n",
              "2   2016-12-26T17:42:01               4.23               Apple iTunes   \n",
              "3   2016-08-24T20:29:48             268.30  Renaissance Hotel #845122   \n",
              "4   2016-12-08T07:04:36              31.71                   ikea.com   \n",
              "5   2016-03-05T07:51:55              70.48         Franks Pub #755509   \n",
              "6   2016-04-04T02:13:52              86.95                AMC #724446   \n",
              "7   2016-02-12T18:31:57             628.52                AMC #706324   \n",
              "8   2016-02-29T01:26:44             439.89        Rodeway Inn #296366   \n",
              "9   2016-10-03T04:53:52             259.14              Mobile eCards   \n",
              "10  2016-12-17T09:21:26              36.99          Shell Gas #399230   \n",
              "11  2016-12-12T09:03:54             148.36          Walgreens #839009   \n",
              "12  2016-06-30T06:42:43              84.02                       Lyft   \n",
              "13  2016-04-17T04:31:34              10.72              cheapfast.com   \n",
              "14  2016-04-05T05:16:11              81.75                       Uber   \n",
              "15  2016-04-03T17:23:58              24.01                    NY Deli   \n",
              "16  2016-07-01T02:46:50             555.66        Rodeway Inn #446090   \n",
              "17  2016-06-11T18:34:42             202.01                alibaba.com   \n",
              "18  2016-02-15T22:03:43              69.18                Eazy Repair   \n",
              "19  2016-01-21T15:11:35              32.65                walmart.com   \n",
              "\n",
              "   acqCountry merchantCountryCode  ... cardLast4Digits transactionType  \\\n",
              "0          US                  US  ...            3822        PURCHASE   \n",
              "1          US                  US  ...            1789        PURCHASE   \n",
              "2          US                  US  ...            9175        PURCHASE   \n",
              "3          US                  US  ...              66        PURCHASE   \n",
              "4          US                  US  ...            8177        PURCHASE   \n",
              "5          US                  US  ...            4690        PURCHASE   \n",
              "6          US                  US  ...            5028        PURCHASE   \n",
              "7          US                  US  ...            8636        PURCHASE   \n",
              "8          US                  US  ...            8854        PURCHASE   \n",
              "9          US                  US  ...            1224        PURCHASE   \n",
              "10         US                  US  ...            7883        PURCHASE   \n",
              "11         US                  US  ...            4104        PURCHASE   \n",
              "12         US                  US  ...            3412        PURCHASE   \n",
              "13         US                  US  ...            1947        PURCHASE   \n",
              "14         US                  US  ...            1849        PURCHASE   \n",
              "15         US                  US  ...            7701        PURCHASE   \n",
              "16         US                  US  ...            6350        PURCHASE   \n",
              "17         US                  US  ...            5726        PURCHASE   \n",
              "18         US                  US  ...            6060        PURCHASE   \n",
              "19        CAN                 CAN  ...            8505        PURCHASE   \n",
              "\n",
              "   echoBuffer  merchantCity merchantState merchantZip posOnPremises  \\\n",
              "0                                                                     \n",
              "1                                                                     \n",
              "2                                                                     \n",
              "3                                                                     \n",
              "4                                                                     \n",
              "5                                                                     \n",
              "6                                                                     \n",
              "7                                                                     \n",
              "8                                                                     \n",
              "9                                                                     \n",
              "10                                                                    \n",
              "11                                                                    \n",
              "12                                                                    \n",
              "13                                                                    \n",
              "14                                                                    \n",
              "15                                                                    \n",
              "16                                                                    \n",
              "17                                                                    \n",
              "18                                                                    \n",
              "19                                                                    \n",
              "\n",
              "    recurringAuthInd  expirationDateKeyInMatch  isFraud  \n",
              "0                                        False    False  \n",
              "1                                        False    False  \n",
              "2                                        False    False  \n",
              "3                                        False    False  \n",
              "4                                        False    False  \n",
              "5                                        False    False  \n",
              "6                                        False    False  \n",
              "7                                        False    False  \n",
              "8                                        False    False  \n",
              "9                                        False    False  \n",
              "10                                       False    False  \n",
              "11                                       False    False  \n",
              "12                                       False    False  \n",
              "13                                       False    False  \n",
              "14                                       False    False  \n",
              "15                                       False    False  \n",
              "16                                       False    False  \n",
              "17                                       False    False  \n",
              "18                                       False    False  \n",
              "19                                       False    False  \n",
              "\n",
              "[20 rows x 29 columns]"
            ],
            "text/html": [
              "\n",
              "  <div id=\"df-1fe7a1be-8211-4885-8ecd-0db4168a6b67\">\n",
              "    <div class=\"colab-df-container\">\n",
              "      <div>\n",
              "<style scoped>\n",
              "    .dataframe tbody tr th:only-of-type {\n",
              "        vertical-align: middle;\n",
              "    }\n",
              "\n",
              "    .dataframe tbody tr th {\n",
              "        vertical-align: top;\n",
              "    }\n",
              "\n",
              "    .dataframe thead th {\n",
              "        text-align: right;\n",
              "    }\n",
              "</style>\n",
              "<table border=\"1\" class=\"dataframe\">\n",
              "  <thead>\n",
              "    <tr style=\"text-align: right;\">\n",
              "      <th></th>\n",
              "      <th>accountNumber</th>\n",
              "      <th>customerId</th>\n",
              "      <th>creditLimit</th>\n",
              "      <th>availableMoney</th>\n",
              "      <th>currentBalance</th>\n",
              "      <th>transactionDateTime</th>\n",
              "      <th>transactionAmount</th>\n",
              "      <th>merchantName</th>\n",
              "      <th>acqCountry</th>\n",
              "      <th>merchantCountryCode</th>\n",
              "      <th>...</th>\n",
              "      <th>cardLast4Digits</th>\n",
              "      <th>transactionType</th>\n",
              "      <th>echoBuffer</th>\n",
              "      <th>merchantCity</th>\n",
              "      <th>merchantState</th>\n",
              "      <th>merchantZip</th>\n",
              "      <th>posOnPremises</th>\n",
              "      <th>recurringAuthInd</th>\n",
              "      <th>expirationDateKeyInMatch</th>\n",
              "      <th>isFraud</th>\n",
              "    </tr>\n",
              "  </thead>\n",
              "  <tbody>\n",
              "    <tr>\n",
              "      <th>0</th>\n",
              "      <td>946817886</td>\n",
              "      <td>946817886</td>\n",
              "      <td>50000</td>\n",
              "      <td>47919.19</td>\n",
              "      <td>2080.81</td>\n",
              "      <td>2016-03-23T15:30:08</td>\n",
              "      <td>18.20</td>\n",
              "      <td>Auntie Anne's #984663</td>\n",
              "      <td>US</td>\n",
              "      <td>US</td>\n",
              "      <td>...</td>\n",
              "      <td>3822</td>\n",
              "      <td>PURCHASE</td>\n",
              "      <td></td>\n",
              "      <td></td>\n",
              "      <td></td>\n",
              "      <td></td>\n",
              "      <td></td>\n",
              "      <td></td>\n",
              "      <td>False</td>\n",
              "      <td>False</td>\n",
              "    </tr>\n",
              "    <tr>\n",
              "      <th>1</th>\n",
              "      <td>318001076</td>\n",
              "      <td>318001076</td>\n",
              "      <td>50000</td>\n",
              "      <td>18138.87</td>\n",
              "      <td>31861.13</td>\n",
              "      <td>2016-10-28T12:19:29</td>\n",
              "      <td>80.95</td>\n",
              "      <td>Auntie Anne's #422240</td>\n",
              "      <td>US</td>\n",
              "      <td>US</td>\n",
              "      <td>...</td>\n",
              "      <td>1789</td>\n",
              "      <td>PURCHASE</td>\n",
              "      <td></td>\n",
              "      <td></td>\n",
              "      <td></td>\n",
              "      <td></td>\n",
              "      <td></td>\n",
              "      <td></td>\n",
              "      <td>False</td>\n",
              "      <td>False</td>\n",
              "    </tr>\n",
              "    <tr>\n",
              "      <th>2</th>\n",
              "      <td>953935422</td>\n",
              "      <td>953935422</td>\n",
              "      <td>20000</td>\n",
              "      <td>15764.65</td>\n",
              "      <td>4235.35</td>\n",
              "      <td>2016-12-26T17:42:01</td>\n",
              "      <td>4.23</td>\n",
              "      <td>Apple iTunes</td>\n",
              "      <td>US</td>\n",
              "      <td>US</td>\n",
              "      <td>...</td>\n",
              "      <td>9175</td>\n",
              "      <td>PURCHASE</td>\n",
              "      <td></td>\n",
              "      <td></td>\n",
              "      <td></td>\n",
              "      <td></td>\n",
              "      <td></td>\n",
              "      <td></td>\n",
              "      <td>False</td>\n",
              "      <td>False</td>\n",
              "    </tr>\n",
              "    <tr>\n",
              "      <th>3</th>\n",
              "      <td>773863988</td>\n",
              "      <td>773863988</td>\n",
              "      <td>5000</td>\n",
              "      <td>2543.92</td>\n",
              "      <td>2456.08</td>\n",
              "      <td>2016-08-24T20:29:48</td>\n",
              "      <td>268.30</td>\n",
              "      <td>Renaissance Hotel #845122</td>\n",
              "      <td>US</td>\n",
              "      <td>US</td>\n",
              "      <td>...</td>\n",
              "      <td>66</td>\n",
              "      <td>PURCHASE</td>\n",
              "      <td></td>\n",
              "      <td></td>\n",
              "      <td></td>\n",
              "      <td></td>\n",
              "      <td></td>\n",
              "      <td></td>\n",
              "      <td>False</td>\n",
              "      <td>False</td>\n",
              "    </tr>\n",
              "    <tr>\n",
              "      <th>4</th>\n",
              "      <td>918205645</td>\n",
              "      <td>918205645</td>\n",
              "      <td>500</td>\n",
              "      <td>99.81</td>\n",
              "      <td>400.19</td>\n",
              "      <td>2016-12-08T07:04:36</td>\n",
              "      <td>31.71</td>\n",
              "      <td>ikea.com</td>\n",
              "      <td>US</td>\n",
              "      <td>US</td>\n",
              "      <td>...</td>\n",
              "      <td>8177</td>\n",
              "      <td>PURCHASE</td>\n",
              "      <td></td>\n",
              "      <td></td>\n",
              "      <td></td>\n",
              "      <td></td>\n",
              "      <td></td>\n",
              "      <td></td>\n",
              "      <td>False</td>\n",
              "      <td>False</td>\n",
              "    </tr>\n",
              "    <tr>\n",
              "      <th>5</th>\n",
              "      <td>877017103</td>\n",
              "      <td>877017103</td>\n",
              "      <td>5000</td>\n",
              "      <td>2183.96</td>\n",
              "      <td>2816.04</td>\n",
              "      <td>2016-03-05T07:51:55</td>\n",
              "      <td>70.48</td>\n",
              "      <td>Franks Pub #755509</td>\n",
              "      <td>US</td>\n",
              "      <td>US</td>\n",
              "      <td>...</td>\n",
              "      <td>4690</td>\n",
              "      <td>PURCHASE</td>\n",
              "      <td></td>\n",
              "      <td></td>\n",
              "      <td></td>\n",
              "      <td></td>\n",
              "      <td></td>\n",
              "      <td></td>\n",
              "      <td>False</td>\n",
              "      <td>False</td>\n",
              "    </tr>\n",
              "    <tr>\n",
              "      <th>6</th>\n",
              "      <td>534398540</td>\n",
              "      <td>534398540</td>\n",
              "      <td>5000</td>\n",
              "      <td>4415.57</td>\n",
              "      <td>584.43</td>\n",
              "      <td>2016-04-04T02:13:52</td>\n",
              "      <td>86.95</td>\n",
              "      <td>AMC #724446</td>\n",
              "      <td>US</td>\n",
              "      <td>US</td>\n",
              "      <td>...</td>\n",
              "      <td>5028</td>\n",
              "      <td>PURCHASE</td>\n",
              "      <td></td>\n",
              "      <td></td>\n",
              "      <td></td>\n",
              "      <td></td>\n",
              "      <td></td>\n",
              "      <td></td>\n",
              "      <td>False</td>\n",
              "      <td>False</td>\n",
              "    </tr>\n",
              "    <tr>\n",
              "      <th>7</th>\n",
              "      <td>412558887</td>\n",
              "      <td>412558887</td>\n",
              "      <td>15000</td>\n",
              "      <td>5952.29</td>\n",
              "      <td>9047.71</td>\n",
              "      <td>2016-02-12T18:31:57</td>\n",
              "      <td>628.52</td>\n",
              "      <td>AMC #706324</td>\n",
              "      <td>US</td>\n",
              "      <td>US</td>\n",
              "      <td>...</td>\n",
              "      <td>8636</td>\n",
              "      <td>PURCHASE</td>\n",
              "      <td></td>\n",
              "      <td></td>\n",
              "      <td></td>\n",
              "      <td></td>\n",
              "      <td></td>\n",
              "      <td></td>\n",
              "      <td>False</td>\n",
              "      <td>False</td>\n",
              "    </tr>\n",
              "    <tr>\n",
              "      <th>8</th>\n",
              "      <td>924273244</td>\n",
              "      <td>924273244</td>\n",
              "      <td>7500</td>\n",
              "      <td>3565.07</td>\n",
              "      <td>3934.93</td>\n",
              "      <td>2016-02-29T01:26:44</td>\n",
              "      <td>439.89</td>\n",
              "      <td>Rodeway Inn #296366</td>\n",
              "      <td>US</td>\n",
              "      <td>US</td>\n",
              "      <td>...</td>\n",
              "      <td>8854</td>\n",
              "      <td>PURCHASE</td>\n",
              "      <td></td>\n",
              "      <td></td>\n",
              "      <td></td>\n",
              "      <td></td>\n",
              "      <td></td>\n",
              "      <td></td>\n",
              "      <td>False</td>\n",
              "      <td>False</td>\n",
              "    </tr>\n",
              "    <tr>\n",
              "      <th>9</th>\n",
              "      <td>271281101</td>\n",
              "      <td>271281101</td>\n",
              "      <td>20000</td>\n",
              "      <td>17534.33</td>\n",
              "      <td>2465.67</td>\n",
              "      <td>2016-10-03T04:53:52</td>\n",
              "      <td>259.14</td>\n",
              "      <td>Mobile eCards</td>\n",
              "      <td>US</td>\n",
              "      <td>US</td>\n",
              "      <td>...</td>\n",
              "      <td>1224</td>\n",
              "      <td>PURCHASE</td>\n",
              "      <td></td>\n",
              "      <td></td>\n",
              "      <td></td>\n",
              "      <td></td>\n",
              "      <td></td>\n",
              "      <td></td>\n",
              "      <td>False</td>\n",
              "      <td>False</td>\n",
              "    </tr>\n",
              "    <tr>\n",
              "      <th>10</th>\n",
              "      <td>838145152</td>\n",
              "      <td>838145152</td>\n",
              "      <td>15000</td>\n",
              "      <td>5132.92</td>\n",
              "      <td>9867.08</td>\n",
              "      <td>2016-12-17T09:21:26</td>\n",
              "      <td>36.99</td>\n",
              "      <td>Shell Gas #399230</td>\n",
              "      <td>US</td>\n",
              "      <td>US</td>\n",
              "      <td>...</td>\n",
              "      <td>7883</td>\n",
              "      <td>PURCHASE</td>\n",
              "      <td></td>\n",
              "      <td></td>\n",
              "      <td></td>\n",
              "      <td></td>\n",
              "      <td></td>\n",
              "      <td></td>\n",
              "      <td>False</td>\n",
              "      <td>False</td>\n",
              "    </tr>\n",
              "    <tr>\n",
              "      <th>11</th>\n",
              "      <td>847474815</td>\n",
              "      <td>847474815</td>\n",
              "      <td>20000</td>\n",
              "      <td>19897.76</td>\n",
              "      <td>102.24</td>\n",
              "      <td>2016-12-12T09:03:54</td>\n",
              "      <td>148.36</td>\n",
              "      <td>Walgreens #839009</td>\n",
              "      <td>US</td>\n",
              "      <td>US</td>\n",
              "      <td>...</td>\n",
              "      <td>4104</td>\n",
              "      <td>PURCHASE</td>\n",
              "      <td></td>\n",
              "      <td></td>\n",
              "      <td></td>\n",
              "      <td></td>\n",
              "      <td></td>\n",
              "      <td></td>\n",
              "      <td>False</td>\n",
              "      <td>False</td>\n",
              "    </tr>\n",
              "    <tr>\n",
              "      <th>12</th>\n",
              "      <td>871480523</td>\n",
              "      <td>871480523</td>\n",
              "      <td>10000</td>\n",
              "      <td>3615.08</td>\n",
              "      <td>6384.92</td>\n",
              "      <td>2016-06-30T06:42:43</td>\n",
              "      <td>84.02</td>\n",
              "      <td>Lyft</td>\n",
              "      <td>US</td>\n",
              "      <td>US</td>\n",
              "      <td>...</td>\n",
              "      <td>3412</td>\n",
              "      <td>PURCHASE</td>\n",
              "      <td></td>\n",
              "      <td></td>\n",
              "      <td></td>\n",
              "      <td></td>\n",
              "      <td></td>\n",
              "      <td></td>\n",
              "      <td>False</td>\n",
              "      <td>False</td>\n",
              "    </tr>\n",
              "    <tr>\n",
              "      <th>13</th>\n",
              "      <td>703733318</td>\n",
              "      <td>703733318</td>\n",
              "      <td>15000</td>\n",
              "      <td>2442.43</td>\n",
              "      <td>12557.57</td>\n",
              "      <td>2016-04-17T04:31:34</td>\n",
              "      <td>10.72</td>\n",
              "      <td>cheapfast.com</td>\n",
              "      <td>US</td>\n",
              "      <td>US</td>\n",
              "      <td>...</td>\n",
              "      <td>1947</td>\n",
              "      <td>PURCHASE</td>\n",
              "      <td></td>\n",
              "      <td></td>\n",
              "      <td></td>\n",
              "      <td></td>\n",
              "      <td></td>\n",
              "      <td></td>\n",
              "      <td>False</td>\n",
              "      <td>False</td>\n",
              "    </tr>\n",
              "    <tr>\n",
              "      <th>14</th>\n",
              "      <td>527615830</td>\n",
              "      <td>527615830</td>\n",
              "      <td>20000</td>\n",
              "      <td>18478.42</td>\n",
              "      <td>1521.58</td>\n",
              "      <td>2016-04-05T05:16:11</td>\n",
              "      <td>81.75</td>\n",
              "      <td>Uber</td>\n",
              "      <td>US</td>\n",
              "      <td>US</td>\n",
              "      <td>...</td>\n",
              "      <td>1849</td>\n",
              "      <td>PURCHASE</td>\n",
              "      <td></td>\n",
              "      <td></td>\n",
              "      <td></td>\n",
              "      <td></td>\n",
              "      <td></td>\n",
              "      <td></td>\n",
              "      <td>False</td>\n",
              "      <td>False</td>\n",
              "    </tr>\n",
              "    <tr>\n",
              "      <th>15</th>\n",
              "      <td>824203050</td>\n",
              "      <td>824203050</td>\n",
              "      <td>7500</td>\n",
              "      <td>7500.00</td>\n",
              "      <td>0.00</td>\n",
              "      <td>2016-04-03T17:23:58</td>\n",
              "      <td>24.01</td>\n",
              "      <td>NY Deli</td>\n",
              "      <td>US</td>\n",
              "      <td>US</td>\n",
              "      <td>...</td>\n",
              "      <td>7701</td>\n",
              "      <td>PURCHASE</td>\n",
              "      <td></td>\n",
              "      <td></td>\n",
              "      <td></td>\n",
              "      <td></td>\n",
              "      <td></td>\n",
              "      <td></td>\n",
              "      <td>False</td>\n",
              "      <td>False</td>\n",
              "    </tr>\n",
              "    <tr>\n",
              "      <th>16</th>\n",
              "      <td>414300522</td>\n",
              "      <td>414300522</td>\n",
              "      <td>50000</td>\n",
              "      <td>49943.28</td>\n",
              "      <td>56.72</td>\n",
              "      <td>2016-07-01T02:46:50</td>\n",
              "      <td>555.66</td>\n",
              "      <td>Rodeway Inn #446090</td>\n",
              "      <td>US</td>\n",
              "      <td>US</td>\n",
              "      <td>...</td>\n",
              "      <td>6350</td>\n",
              "      <td>PURCHASE</td>\n",
              "      <td></td>\n",
              "      <td></td>\n",
              "      <td></td>\n",
              "      <td></td>\n",
              "      <td></td>\n",
              "      <td></td>\n",
              "      <td>False</td>\n",
              "      <td>False</td>\n",
              "    </tr>\n",
              "    <tr>\n",
              "      <th>17</th>\n",
              "      <td>703679977</td>\n",
              "      <td>703679977</td>\n",
              "      <td>10000</td>\n",
              "      <td>5245.17</td>\n",
              "      <td>4754.83</td>\n",
              "      <td>2016-06-11T18:34:42</td>\n",
              "      <td>202.01</td>\n",
              "      <td>alibaba.com</td>\n",
              "      <td>US</td>\n",
              "      <td>US</td>\n",
              "      <td>...</td>\n",
              "      <td>5726</td>\n",
              "      <td>PURCHASE</td>\n",
              "      <td></td>\n",
              "      <td></td>\n",
              "      <td></td>\n",
              "      <td></td>\n",
              "      <td></td>\n",
              "      <td></td>\n",
              "      <td>False</td>\n",
              "      <td>False</td>\n",
              "    </tr>\n",
              "    <tr>\n",
              "      <th>18</th>\n",
              "      <td>822203001</td>\n",
              "      <td>822203001</td>\n",
              "      <td>5000</td>\n",
              "      <td>1847.11</td>\n",
              "      <td>3152.89</td>\n",
              "      <td>2016-02-15T22:03:43</td>\n",
              "      <td>69.18</td>\n",
              "      <td>Eazy Repair</td>\n",
              "      <td>US</td>\n",
              "      <td>US</td>\n",
              "      <td>...</td>\n",
              "      <td>6060</td>\n",
              "      <td>PURCHASE</td>\n",
              "      <td></td>\n",
              "      <td></td>\n",
              "      <td></td>\n",
              "      <td></td>\n",
              "      <td></td>\n",
              "      <td></td>\n",
              "      <td>False</td>\n",
              "      <td>False</td>\n",
              "    </tr>\n",
              "    <tr>\n",
              "      <th>19</th>\n",
              "      <td>587156191</td>\n",
              "      <td>587156191</td>\n",
              "      <td>5000</td>\n",
              "      <td>3970.72</td>\n",
              "      <td>1029.28</td>\n",
              "      <td>2016-01-21T15:11:35</td>\n",
              "      <td>32.65</td>\n",
              "      <td>walmart.com</td>\n",
              "      <td>CAN</td>\n",
              "      <td>CAN</td>\n",
              "      <td>...</td>\n",
              "      <td>8505</td>\n",
              "      <td>PURCHASE</td>\n",
              "      <td></td>\n",
              "      <td></td>\n",
              "      <td></td>\n",
              "      <td></td>\n",
              "      <td></td>\n",
              "      <td></td>\n",
              "      <td>False</td>\n",
              "      <td>False</td>\n",
              "    </tr>\n",
              "  </tbody>\n",
              "</table>\n",
              "<p>20 rows × 29 columns</p>\n",
              "</div>\n",
              "      <button class=\"colab-df-convert\" onclick=\"convertToInteractive('df-1fe7a1be-8211-4885-8ecd-0db4168a6b67')\"\n",
              "              title=\"Convert this dataframe to an interactive table.\"\n",
              "              style=\"display:none;\">\n",
              "        \n",
              "  <svg xmlns=\"http://www.w3.org/2000/svg\" height=\"24px\"viewBox=\"0 0 24 24\"\n",
              "       width=\"24px\">\n",
              "    <path d=\"M0 0h24v24H0V0z\" fill=\"none\"/>\n",
              "    <path d=\"M18.56 5.44l.94 2.06.94-2.06 2.06-.94-2.06-.94-.94-2.06-.94 2.06-2.06.94zm-11 1L8.5 8.5l.94-2.06 2.06-.94-2.06-.94L8.5 2.5l-.94 2.06-2.06.94zm10 10l.94 2.06.94-2.06 2.06-.94-2.06-.94-.94-2.06-.94 2.06-2.06.94z\"/><path d=\"M17.41 7.96l-1.37-1.37c-.4-.4-.92-.59-1.43-.59-.52 0-1.04.2-1.43.59L10.3 9.45l-7.72 7.72c-.78.78-.78 2.05 0 2.83L4 21.41c.39.39.9.59 1.41.59.51 0 1.02-.2 1.41-.59l7.78-7.78 2.81-2.81c.8-.78.8-2.07 0-2.86zM5.41 20L4 18.59l7.72-7.72 1.47 1.35L5.41 20z\"/>\n",
              "  </svg>\n",
              "      </button>\n",
              "      \n",
              "  <style>\n",
              "    .colab-df-container {\n",
              "      display:flex;\n",
              "      flex-wrap:wrap;\n",
              "      gap: 12px;\n",
              "    }\n",
              "\n",
              "    .colab-df-convert {\n",
              "      background-color: #E8F0FE;\n",
              "      border: none;\n",
              "      border-radius: 50%;\n",
              "      cursor: pointer;\n",
              "      display: none;\n",
              "      fill: #1967D2;\n",
              "      height: 32px;\n",
              "      padding: 0 0 0 0;\n",
              "      width: 32px;\n",
              "    }\n",
              "\n",
              "    .colab-df-convert:hover {\n",
              "      background-color: #E2EBFA;\n",
              "      box-shadow: 0px 1px 2px rgba(60, 64, 67, 0.3), 0px 1px 3px 1px rgba(60, 64, 67, 0.15);\n",
              "      fill: #174EA6;\n",
              "    }\n",
              "\n",
              "    [theme=dark] .colab-df-convert {\n",
              "      background-color: #3B4455;\n",
              "      fill: #D2E3FC;\n",
              "    }\n",
              "\n",
              "    [theme=dark] .colab-df-convert:hover {\n",
              "      background-color: #434B5C;\n",
              "      box-shadow: 0px 1px 3px 1px rgba(0, 0, 0, 0.15);\n",
              "      filter: drop-shadow(0px 1px 2px rgba(0, 0, 0, 0.3));\n",
              "      fill: #FFFFFF;\n",
              "    }\n",
              "  </style>\n",
              "\n",
              "      <script>\n",
              "        const buttonEl =\n",
              "          document.querySelector('#df-1fe7a1be-8211-4885-8ecd-0db4168a6b67 button.colab-df-convert');\n",
              "        buttonEl.style.display =\n",
              "          google.colab.kernel.accessAllowed ? 'block' : 'none';\n",
              "\n",
              "        async function convertToInteractive(key) {\n",
              "          const element = document.querySelector('#df-1fe7a1be-8211-4885-8ecd-0db4168a6b67');\n",
              "          const dataTable =\n",
              "            await google.colab.kernel.invokeFunction('convertToInteractive',\n",
              "                                                     [key], {});\n",
              "          if (!dataTable) return;\n",
              "\n",
              "          const docLinkHtml = 'Like what you see? Visit the ' +\n",
              "            '<a target=\"_blank\" href=https://colab.research.google.com/notebooks/data_table.ipynb>data table notebook</a>'\n",
              "            + ' to learn more about interactive tables.';\n",
              "          element.innerHTML = '';\n",
              "          dataTable['output_type'] = 'display_data';\n",
              "          await google.colab.output.renderOutput(dataTable, element);\n",
              "          const docLink = document.createElement('div');\n",
              "          docLink.innerHTML = docLinkHtml;\n",
              "          element.appendChild(docLink);\n",
              "        }\n",
              "      </script>\n",
              "    </div>\n",
              "  </div>\n",
              "  "
            ]
          },
          "metadata": {},
          "execution_count": 100
        }
      ]
    },
    {
      "cell_type": "code",
      "source": [
        "df.columns"
      ],
      "metadata": {
        "colab": {
          "base_uri": "https://localhost:8080/"
        },
        "id": "ot3utgidD5Gf",
        "outputId": "daf08477-a8e1-4503-9a4d-f8957afb85d6"
      },
      "id": "ot3utgidD5Gf",
      "execution_count": 101,
      "outputs": [
        {
          "output_type": "execute_result",
          "data": {
            "text/plain": [
              "Index(['accountNumber', 'customerId', 'creditLimit', 'availableMoney',\n",
              "       'currentBalance', 'transactionDateTime', 'transactionAmount',\n",
              "       'merchantName', 'acqCountry', 'merchantCountryCode', 'posEntryMode',\n",
              "       'posConditionCode', 'merchantCategoryCode', 'cardPresent',\n",
              "       'currentExpDate', 'accountOpenDate', 'dateOfLastAddressChange',\n",
              "       'cardCVV', 'enteredCVV', 'cardLast4Digits', 'transactionType',\n",
              "       'echoBuffer', 'merchantCity', 'merchantState', 'merchantZip',\n",
              "       'posOnPremises', 'recurringAuthInd', 'expirationDateKeyInMatch',\n",
              "       'isFraud'],\n",
              "      dtype='object')"
            ]
          },
          "metadata": {},
          "execution_count": 101
        }
      ]
    },
    {
      "cell_type": "code",
      "source": [
        "df.info()"
      ],
      "metadata": {
        "id": "GcChEuMIwO1h",
        "outputId": "921258dd-b485-4686-b3b5-64980ecd487b",
        "colab": {
          "base_uri": "https://localhost:8080/"
        }
      },
      "id": "GcChEuMIwO1h",
      "execution_count": 102,
      "outputs": [
        {
          "output_type": "stream",
          "name": "stdout",
          "text": [
            "<class 'pandas.core.frame.DataFrame'>\n",
            "RangeIndex: 100000 entries, 0 to 99999\n",
            "Data columns (total 29 columns):\n",
            " #   Column                    Non-Null Count   Dtype  \n",
            "---  ------                    --------------   -----  \n",
            " 0   accountNumber             100000 non-null  int64  \n",
            " 1   customerId                100000 non-null  int64  \n",
            " 2   creditLimit               100000 non-null  int64  \n",
            " 3   availableMoney            100000 non-null  float64\n",
            " 4   currentBalance            100000 non-null  float64\n",
            " 5   transactionDateTime       100000 non-null  object \n",
            " 6   transactionAmount         100000 non-null  float64\n",
            " 7   merchantName              100000 non-null  object \n",
            " 8   acqCountry                100000 non-null  object \n",
            " 9   merchantCountryCode       100000 non-null  object \n",
            " 10  posEntryMode              100000 non-null  object \n",
            " 11  posConditionCode          100000 non-null  object \n",
            " 12  merchantCategoryCode      100000 non-null  object \n",
            " 13  cardPresent               100000 non-null  bool   \n",
            " 14  currentExpDate            100000 non-null  object \n",
            " 15  accountOpenDate           100000 non-null  object \n",
            " 16  dateOfLastAddressChange   100000 non-null  object \n",
            " 17  cardCVV                   100000 non-null  int64  \n",
            " 18  enteredCVV                100000 non-null  int64  \n",
            " 19  cardLast4Digits           100000 non-null  int64  \n",
            " 20  transactionType           100000 non-null  object \n",
            " 21  echoBuffer                100000 non-null  object \n",
            " 22  merchantCity              100000 non-null  object \n",
            " 23  merchantState             100000 non-null  object \n",
            " 24  merchantZip               100000 non-null  object \n",
            " 25  posOnPremises             100000 non-null  object \n",
            " 26  recurringAuthInd          100000 non-null  object \n",
            " 27  expirationDateKeyInMatch  100000 non-null  bool   \n",
            " 28  isFraud                   100000 non-null  bool   \n",
            "dtypes: bool(3), float64(3), int64(6), object(17)\n",
            "memory usage: 20.1+ MB\n"
          ]
        }
      ]
    },
    {
      "cell_type": "code",
      "source": [
        "df.isnull().sum()"
      ],
      "metadata": {
        "id": "Yr7TtMXHwT3r",
        "outputId": "b4b0d81f-7ebf-4c8c-8e69-fd9d5a6dd197",
        "colab": {
          "base_uri": "https://localhost:8080/"
        }
      },
      "id": "Yr7TtMXHwT3r",
      "execution_count": 103,
      "outputs": [
        {
          "output_type": "execute_result",
          "data": {
            "text/plain": [
              "accountNumber               0\n",
              "customerId                  0\n",
              "creditLimit                 0\n",
              "availableMoney              0\n",
              "currentBalance              0\n",
              "transactionDateTime         0\n",
              "transactionAmount           0\n",
              "merchantName                0\n",
              "acqCountry                  0\n",
              "merchantCountryCode         0\n",
              "posEntryMode                0\n",
              "posConditionCode            0\n",
              "merchantCategoryCode        0\n",
              "cardPresent                 0\n",
              "currentExpDate              0\n",
              "accountOpenDate             0\n",
              "dateOfLastAddressChange     0\n",
              "cardCVV                     0\n",
              "enteredCVV                  0\n",
              "cardLast4Digits             0\n",
              "transactionType             0\n",
              "echoBuffer                  0\n",
              "merchantCity                0\n",
              "merchantState               0\n",
              "merchantZip                 0\n",
              "posOnPremises               0\n",
              "recurringAuthInd            0\n",
              "expirationDateKeyInMatch    0\n",
              "isFraud                     0\n",
              "dtype: int64"
            ]
          },
          "metadata": {},
          "execution_count": 103
        }
      ]
    },
    {
      "cell_type": "code",
      "source": [
        "df.describe()"
      ],
      "metadata": {
        "id": "bIjyPPCU2cN8",
        "outputId": "d456b4d2-5968-48c8-994b-a4f5b6278178",
        "colab": {
          "base_uri": "https://localhost:8080/",
          "height": 300
        }
      },
      "id": "bIjyPPCU2cN8",
      "execution_count": 104,
      "outputs": [
        {
          "output_type": "execute_result",
          "data": {
            "text/plain": [
              "       accountNumber    customerId    creditLimit  availableMoney  \\\n",
              "count   1.000000e+05  1.000000e+05  100000.000000   100000.000000   \n",
              "mean    5.556877e+08  5.556877e+08   10719.992500     6636.389995   \n",
              "std     2.545762e+08  2.545762e+08   11506.778078     9205.712429   \n",
              "min     1.005471e+08  1.005471e+08     250.000000    -1112.120000   \n",
              "25%     3.224398e+08  3.224398e+08    5000.000000     1122.822500   \n",
              "50%     5.470629e+08  5.470629e+08    7500.000000     3580.385000   \n",
              "75%     7.867212e+08  7.867212e+08   15000.000000     8148.970000   \n",
              "max     9.999853e+08  9.999853e+08   50000.000000    50000.000000   \n",
              "\n",
              "       currentBalance  transactionAmount        cardCVV     enteredCVV  \\\n",
              "count   100000.000000      100000.000000  100000.000000  100000.000000   \n",
              "mean      4083.602505         135.553147     556.543570     556.138290   \n",
              "std       6021.439041         146.691214     257.056592     257.159952   \n",
              "min          0.000000           0.000000     100.000000       7.000000   \n",
              "25%        501.692500          32.810000     332.000000     331.000000   \n",
              "50%       2162.500000          86.460000     582.000000     581.000000   \n",
              "75%       5044.535000         190.200000     760.000000     760.000000   \n",
              "max      47481.130000        1506.210000     998.000000     998.000000   \n",
              "\n",
              "       cardLast4Digits  \n",
              "count    100000.000000  \n",
              "mean       4890.904900  \n",
              "std        2857.701925  \n",
              "min           0.000000  \n",
              "25%        2368.000000  \n",
              "50%        4873.000000  \n",
              "75%        7281.000000  \n",
              "max        9998.000000  "
            ],
            "text/html": [
              "\n",
              "  <div id=\"df-e09bfb64-c492-4fb4-be54-aebc88a2ea8f\">\n",
              "    <div class=\"colab-df-container\">\n",
              "      <div>\n",
              "<style scoped>\n",
              "    .dataframe tbody tr th:only-of-type {\n",
              "        vertical-align: middle;\n",
              "    }\n",
              "\n",
              "    .dataframe tbody tr th {\n",
              "        vertical-align: top;\n",
              "    }\n",
              "\n",
              "    .dataframe thead th {\n",
              "        text-align: right;\n",
              "    }\n",
              "</style>\n",
              "<table border=\"1\" class=\"dataframe\">\n",
              "  <thead>\n",
              "    <tr style=\"text-align: right;\">\n",
              "      <th></th>\n",
              "      <th>accountNumber</th>\n",
              "      <th>customerId</th>\n",
              "      <th>creditLimit</th>\n",
              "      <th>availableMoney</th>\n",
              "      <th>currentBalance</th>\n",
              "      <th>transactionAmount</th>\n",
              "      <th>cardCVV</th>\n",
              "      <th>enteredCVV</th>\n",
              "      <th>cardLast4Digits</th>\n",
              "    </tr>\n",
              "  </thead>\n",
              "  <tbody>\n",
              "    <tr>\n",
              "      <th>count</th>\n",
              "      <td>1.000000e+05</td>\n",
              "      <td>1.000000e+05</td>\n",
              "      <td>100000.000000</td>\n",
              "      <td>100000.000000</td>\n",
              "      <td>100000.000000</td>\n",
              "      <td>100000.000000</td>\n",
              "      <td>100000.000000</td>\n",
              "      <td>100000.000000</td>\n",
              "      <td>100000.000000</td>\n",
              "    </tr>\n",
              "    <tr>\n",
              "      <th>mean</th>\n",
              "      <td>5.556877e+08</td>\n",
              "      <td>5.556877e+08</td>\n",
              "      <td>10719.992500</td>\n",
              "      <td>6636.389995</td>\n",
              "      <td>4083.602505</td>\n",
              "      <td>135.553147</td>\n",
              "      <td>556.543570</td>\n",
              "      <td>556.138290</td>\n",
              "      <td>4890.904900</td>\n",
              "    </tr>\n",
              "    <tr>\n",
              "      <th>std</th>\n",
              "      <td>2.545762e+08</td>\n",
              "      <td>2.545762e+08</td>\n",
              "      <td>11506.778078</td>\n",
              "      <td>9205.712429</td>\n",
              "      <td>6021.439041</td>\n",
              "      <td>146.691214</td>\n",
              "      <td>257.056592</td>\n",
              "      <td>257.159952</td>\n",
              "      <td>2857.701925</td>\n",
              "    </tr>\n",
              "    <tr>\n",
              "      <th>min</th>\n",
              "      <td>1.005471e+08</td>\n",
              "      <td>1.005471e+08</td>\n",
              "      <td>250.000000</td>\n",
              "      <td>-1112.120000</td>\n",
              "      <td>0.000000</td>\n",
              "      <td>0.000000</td>\n",
              "      <td>100.000000</td>\n",
              "      <td>7.000000</td>\n",
              "      <td>0.000000</td>\n",
              "    </tr>\n",
              "    <tr>\n",
              "      <th>25%</th>\n",
              "      <td>3.224398e+08</td>\n",
              "      <td>3.224398e+08</td>\n",
              "      <td>5000.000000</td>\n",
              "      <td>1122.822500</td>\n",
              "      <td>501.692500</td>\n",
              "      <td>32.810000</td>\n",
              "      <td>332.000000</td>\n",
              "      <td>331.000000</td>\n",
              "      <td>2368.000000</td>\n",
              "    </tr>\n",
              "    <tr>\n",
              "      <th>50%</th>\n",
              "      <td>5.470629e+08</td>\n",
              "      <td>5.470629e+08</td>\n",
              "      <td>7500.000000</td>\n",
              "      <td>3580.385000</td>\n",
              "      <td>2162.500000</td>\n",
              "      <td>86.460000</td>\n",
              "      <td>582.000000</td>\n",
              "      <td>581.000000</td>\n",
              "      <td>4873.000000</td>\n",
              "    </tr>\n",
              "    <tr>\n",
              "      <th>75%</th>\n",
              "      <td>7.867212e+08</td>\n",
              "      <td>7.867212e+08</td>\n",
              "      <td>15000.000000</td>\n",
              "      <td>8148.970000</td>\n",
              "      <td>5044.535000</td>\n",
              "      <td>190.200000</td>\n",
              "      <td>760.000000</td>\n",
              "      <td>760.000000</td>\n",
              "      <td>7281.000000</td>\n",
              "    </tr>\n",
              "    <tr>\n",
              "      <th>max</th>\n",
              "      <td>9.999853e+08</td>\n",
              "      <td>9.999853e+08</td>\n",
              "      <td>50000.000000</td>\n",
              "      <td>50000.000000</td>\n",
              "      <td>47481.130000</td>\n",
              "      <td>1506.210000</td>\n",
              "      <td>998.000000</td>\n",
              "      <td>998.000000</td>\n",
              "      <td>9998.000000</td>\n",
              "    </tr>\n",
              "  </tbody>\n",
              "</table>\n",
              "</div>\n",
              "      <button class=\"colab-df-convert\" onclick=\"convertToInteractive('df-e09bfb64-c492-4fb4-be54-aebc88a2ea8f')\"\n",
              "              title=\"Convert this dataframe to an interactive table.\"\n",
              "              style=\"display:none;\">\n",
              "        \n",
              "  <svg xmlns=\"http://www.w3.org/2000/svg\" height=\"24px\"viewBox=\"0 0 24 24\"\n",
              "       width=\"24px\">\n",
              "    <path d=\"M0 0h24v24H0V0z\" fill=\"none\"/>\n",
              "    <path d=\"M18.56 5.44l.94 2.06.94-2.06 2.06-.94-2.06-.94-.94-2.06-.94 2.06-2.06.94zm-11 1L8.5 8.5l.94-2.06 2.06-.94-2.06-.94L8.5 2.5l-.94 2.06-2.06.94zm10 10l.94 2.06.94-2.06 2.06-.94-2.06-.94-.94-2.06-.94 2.06-2.06.94z\"/><path d=\"M17.41 7.96l-1.37-1.37c-.4-.4-.92-.59-1.43-.59-.52 0-1.04.2-1.43.59L10.3 9.45l-7.72 7.72c-.78.78-.78 2.05 0 2.83L4 21.41c.39.39.9.59 1.41.59.51 0 1.02-.2 1.41-.59l7.78-7.78 2.81-2.81c.8-.78.8-2.07 0-2.86zM5.41 20L4 18.59l7.72-7.72 1.47 1.35L5.41 20z\"/>\n",
              "  </svg>\n",
              "      </button>\n",
              "      \n",
              "  <style>\n",
              "    .colab-df-container {\n",
              "      display:flex;\n",
              "      flex-wrap:wrap;\n",
              "      gap: 12px;\n",
              "    }\n",
              "\n",
              "    .colab-df-convert {\n",
              "      background-color: #E8F0FE;\n",
              "      border: none;\n",
              "      border-radius: 50%;\n",
              "      cursor: pointer;\n",
              "      display: none;\n",
              "      fill: #1967D2;\n",
              "      height: 32px;\n",
              "      padding: 0 0 0 0;\n",
              "      width: 32px;\n",
              "    }\n",
              "\n",
              "    .colab-df-convert:hover {\n",
              "      background-color: #E2EBFA;\n",
              "      box-shadow: 0px 1px 2px rgba(60, 64, 67, 0.3), 0px 1px 3px 1px rgba(60, 64, 67, 0.15);\n",
              "      fill: #174EA6;\n",
              "    }\n",
              "\n",
              "    [theme=dark] .colab-df-convert {\n",
              "      background-color: #3B4455;\n",
              "      fill: #D2E3FC;\n",
              "    }\n",
              "\n",
              "    [theme=dark] .colab-df-convert:hover {\n",
              "      background-color: #434B5C;\n",
              "      box-shadow: 0px 1px 3px 1px rgba(0, 0, 0, 0.15);\n",
              "      filter: drop-shadow(0px 1px 2px rgba(0, 0, 0, 0.3));\n",
              "      fill: #FFFFFF;\n",
              "    }\n",
              "  </style>\n",
              "\n",
              "      <script>\n",
              "        const buttonEl =\n",
              "          document.querySelector('#df-e09bfb64-c492-4fb4-be54-aebc88a2ea8f button.colab-df-convert');\n",
              "        buttonEl.style.display =\n",
              "          google.colab.kernel.accessAllowed ? 'block' : 'none';\n",
              "\n",
              "        async function convertToInteractive(key) {\n",
              "          const element = document.querySelector('#df-e09bfb64-c492-4fb4-be54-aebc88a2ea8f');\n",
              "          const dataTable =\n",
              "            await google.colab.kernel.invokeFunction('convertToInteractive',\n",
              "                                                     [key], {});\n",
              "          if (!dataTable) return;\n",
              "\n",
              "          const docLinkHtml = 'Like what you see? Visit the ' +\n",
              "            '<a target=\"_blank\" href=https://colab.research.google.com/notebooks/data_table.ipynb>data table notebook</a>'\n",
              "            + ' to learn more about interactive tables.';\n",
              "          element.innerHTML = '';\n",
              "          dataTable['output_type'] = 'display_data';\n",
              "          await google.colab.output.renderOutput(dataTable, element);\n",
              "          const docLink = document.createElement('div');\n",
              "          docLink.innerHTML = docLinkHtml;\n",
              "          element.appendChild(docLink);\n",
              "        }\n",
              "      </script>\n",
              "    </div>\n",
              "  </div>\n",
              "  "
            ]
          },
          "metadata": {},
          "execution_count": 104
        }
      ]
    },
    {
      "cell_type": "code",
      "source": [
        "import numpy as np\n",
        "\n",
        "df.select_dtypes(include=np.number).columns"
      ],
      "metadata": {
        "id": "gUHIZjc7wkIV",
        "outputId": "82aa8c5a-5b96-4b90-860e-7f0e79d6b2d5",
        "colab": {
          "base_uri": "https://localhost:8080/"
        }
      },
      "id": "gUHIZjc7wkIV",
      "execution_count": 105,
      "outputs": [
        {
          "output_type": "execute_result",
          "data": {
            "text/plain": [
              "Index(['accountNumber', 'customerId', 'creditLimit', 'availableMoney',\n",
              "       'currentBalance', 'transactionAmount', 'cardCVV', 'enteredCVV',\n",
              "       'cardLast4Digits'],\n",
              "      dtype='object')"
            ]
          },
          "metadata": {},
          "execution_count": 105
        }
      ]
    },
    {
      "cell_type": "code",
      "source": [
        "features = ['accountNumber', 'customerId', 'creditLimit', 'availableMoney',\n",
        "       'currentBalance', 'transactionAmount', 'cardCVV', 'enteredCVV',\n",
        "       'cardLast4Digits']"
      ],
      "metadata": {
        "id": "XYL8kvPQwq_y"
      },
      "id": "XYL8kvPQwq_y",
      "execution_count": 106,
      "outputs": []
    },
    {
      "cell_type": "code",
      "source": [
        "# filtering columns from data\n",
        "df=df.drop(columns=['merchantName','transactionDateTime', 'acqCountry', 'merchantCountryCode', 'posEntryMode',\n",
        "       'posConditionCode', 'merchantCategoryCode', 'cardPresent',\n",
        "       'currentExpDate', 'accountOpenDate', 'dateOfLastAddressChange','echoBuffer', 'merchantCity', 'merchantState', 'merchantZip',\n",
        "       'posOnPremises', 'recurringAuthInd', 'expirationDateKeyInMatch'])"
      ],
      "metadata": {
        "id": "8qqKuhWSEH_j"
      },
      "id": "8qqKuhWSEH_j",
      "execution_count": 107,
      "outputs": []
    },
    {
      "cell_type": "markdown",
      "source": [
        "# EDA TASK 1"
      ],
      "metadata": {
        "id": "24LXBkuKwa_J"
      },
      "id": "24LXBkuKwa_J"
    },
    {
      "cell_type": "markdown",
      "source": [
        "## Q1) Find the outliers in column \"cardLast4Digits\".(hint: do all data in the column have length 4)"
      ],
      "metadata": {
        "id": "JUdUDXBUw1if"
      },
      "id": "JUdUDXBUw1if"
    },
    {
      "cell_type": "code",
      "source": [
        "#checking the length of each value in the column 'cardLast4Digits'\n",
        "df['cardLast4Digits_len'] = df['cardLast4Digits'].astype(str).apply(len)\n",
        "\n",
        "# Outliers are any value which is not equal to 4\n",
        "outliers = df[df['cardLast4Digits_len'] != 4]\n",
        "\n",
        "#printing the outliers\n",
        "print(outliers)"
      ],
      "metadata": {
        "id": "EBG2E4aBw049",
        "outputId": "11b17aaf-1b50-465f-eb63-55d069c3a0b5",
        "colab": {
          "base_uri": "https://localhost:8080/"
        }
      },
      "id": "EBG2E4aBw049",
      "execution_count": 108,
      "outputs": [
        {
          "output_type": "stream",
          "name": "stdout",
          "text": [
            "       accountNumber  customerId  creditLimit  availableMoney  currentBalance  \\\n",
            "3          773863988   773863988         5000         2543.92         2456.08   \n",
            "25         973191329   973191329        15000         4940.83        10059.17   \n",
            "32         290246392   290246392         5000         4969.05           30.95   \n",
            "63         219833982   219833982        10000         8527.16         1472.84   \n",
            "68         281253442   281253442         5000         2629.55         2370.45   \n",
            "...              ...         ...          ...             ...             ...   \n",
            "99948      954826426   954826426         5000         3191.63         1808.37   \n",
            "99958      952673206   952673206        20000        19622.06          377.94   \n",
            "99967      766647076   766647076        50000        48370.11         1629.89   \n",
            "99969      920076052   920076052         5000          649.65         4350.35   \n",
            "99980      589507464   589507464         2500         1491.55         1008.45   \n",
            "\n",
            "       transactionAmount  cardCVV  enteredCVV  cardLast4Digits  \\\n",
            "3                 268.30      598         598               66   \n",
            "25                130.07      366         366              354   \n",
            "32                 30.95      302         302              862   \n",
            "63                119.28      211         211              442   \n",
            "68                 20.64      368         368              891   \n",
            "...                  ...      ...         ...              ...   \n",
            "99948             178.10      644         644              971   \n",
            "99958              37.71      576         576              470   \n",
            "99967              74.99      415         415              507   \n",
            "99969             401.52      606         606              137   \n",
            "99980             135.13      277         277              953   \n",
            "\n",
            "      transactionType  isFraud  cardLast4Digits_len  \n",
            "3            PURCHASE    False                    2  \n",
            "25           PURCHASE    False                    3  \n",
            "32           PURCHASE    False                    3  \n",
            "63           PURCHASE    False                    3  \n",
            "68           PURCHASE    False                    3  \n",
            "...               ...      ...                  ...  \n",
            "99948        PURCHASE    False                    3  \n",
            "99958        PURCHASE    False                    3  \n",
            "99967        PURCHASE    False                    3  \n",
            "99969        PURCHASE    False                    3  \n",
            "99980        PURCHASE    False                    3  \n",
            "\n",
            "[10205 rows x 12 columns]\n"
          ]
        }
      ]
    },
    {
      "cell_type": "markdown",
      "source": [
        "## Q2) Find the ids which entered wrong CVV while doing transaction.( compare and find from columns cardCVV and entered CVV)"
      ],
      "metadata": {
        "id": "6-aOeEVQxvFL"
      },
      "id": "6-aOeEVQxvFL"
    },
    {
      "cell_type": "code",
      "source": [
        "# customer ids for which enetered cvv is not equal to card cvv have entered wrong cvv\n",
        "wrong_cvv = df[df['enteredCVV'] != df['cardCVV']]\n",
        "wrong_cvv['customerId']\n",
        "\n",
        "\n",
        "\n"
      ],
      "metadata": {
        "id": "ZZSuid-5wak0",
        "outputId": "a5f9089f-5ba0-43be-848c-c95279c95aa3",
        "colab": {
          "base_uri": "https://localhost:8080/"
        }
      },
      "id": "ZZSuid-5wak0",
      "execution_count": 15,
      "outputs": [
        {
          "output_type": "execute_result",
          "data": {
            "text/plain": [
              "30       838085703\n",
              "62       449543832\n",
              "99       833233247\n",
              "168      838085703\n",
              "314      987285205\n",
              "           ...    \n",
              "99616    896573889\n",
              "99636    128312501\n",
              "99687    414094683\n",
              "99722    901922840\n",
              "99868    872874789\n",
              "Name: customerId, Length: 953, dtype: int64"
            ]
          },
          "metadata": {},
          "execution_count": 15
        }
      ]
    },
    {
      "cell_type": "markdown",
      "source": [
        "## Q3)Which type of plot is best to visualise general range of transaction. State and plot the column Transaction Amount"
      ],
      "metadata": {
        "id": "I8sGG1Xzyzgl"
      },
      "id": "I8sGG1Xzyzgl"
    },
    {
      "cell_type": "code",
      "source": [
        "#importing matplot lib library for plot\n",
        "import matplotlib.pyplot as plt\n",
        "\n",
        "#making a histogram\n",
        "\n",
        "plt.hist(df['transactionAmount'], bins = 10)\n",
        "\n",
        "plt.title('Transaction Amount range')\n",
        "\n",
        "plt.show()"
      ],
      "metadata": {
        "id": "tOpOfdpLy5gu",
        "outputId": "d639d00f-6754-4726-cd20-d555f77880ab",
        "colab": {
          "base_uri": "https://localhost:8080/",
          "height": 452
        }
      },
      "id": "tOpOfdpLy5gu",
      "execution_count": 16,
      "outputs": [
        {
          "output_type": "display_data",
          "data": {
            "text/plain": [
              "<Figure size 640x480 with 1 Axes>"
            ],
            "image/png": "[encoded data removed]"
          },
          "metadata": {}
        }
      ]
    },
    {
      "cell_type": "markdown",
      "source": [
        "## Q4)Is there any transaction which is greater than credit card limit?"
      ],
      "metadata": {
        "id": "7toOVY-Z1Boj"
      },
      "id": "7toOVY-Z1Boj"
    },
    {
      "cell_type": "code",
      "source": [
        "#for transaction greater than limit we apply inequality\n",
        "beyond_limit= df[df['transactionAmount'] > df['creditLimit']]\n",
        "print(beyond_limit)"
      ],
      "metadata": {
        "id": "4sCL6LB51GbN",
        "outputId": "73692c18-7135-4a99-b8a6-caa8df0a41f0",
        "colab": {
          "base_uri": "https://localhost:8080/"
        }
      },
      "id": "4sCL6LB51GbN",
      "execution_count": 17,
      "outputs": [
        {
          "output_type": "stream",
          "name": "stdout",
          "text": [
            "       accountNumber  customerId  creditLimit  availableMoney  currentBalance  \\\n",
            "127        298055437   298055437          500          500.00            0.00   \n",
            "360        323700065   323700065          250          230.07           19.93   \n",
            "427        513829169   513829169          250           37.69          212.31   \n",
            "802        236377887   236377887          250           41.65          208.35   \n",
            "842        772212779   772212779          250          221.63           28.37   \n",
            "...              ...         ...          ...             ...             ...   \n",
            "99858      414150798   414150798          500           73.34          426.66   \n",
            "99895      627205309   627205309          500          420.43           79.57   \n",
            "99906      314506271   314506271          250          250.00            0.00   \n",
            "99922      921157285   921157285          500          232.47          267.53   \n",
            "99973      772212779   772212779          250          215.69           34.31   \n",
            "\n",
            "       transactionDateTime  transactionAmount              merchantName  \\\n",
            "127    2016-12-17T15:12:58             949.83    Domino's Pizza #864216   \n",
            "360    2016-06-15T04:59:16             832.51             cheapfast.com   \n",
            "427    2016-12-04T03:25:48             406.01  Universe Massage #782984   \n",
            "802    2016-08-08T06:10:11             275.69                 apple.com   \n",
            "842    2016-02-23T23:44:17             537.19                  1st Deli   \n",
            "...                    ...                ...                       ...   \n",
            "99858  2016-07-20T13:51:08             526.83                      Lyft   \n",
            "99895  2016-02-17T10:45:40             500.83                target.com   \n",
            "99906  2016-04-15T14:39:48             511.91       Ray's Fries #892291   \n",
            "99922  2016-07-10T04:28:54             630.89      EZ Putt Putt #804489   \n",
            "99973  2016-12-02T03:38:41             309.65        Ray's Fries #24425   \n",
            "\n",
            "      acqCountry merchantCountryCode  ... transactionType echoBuffer  \\\n",
            "127           US                  US  ...        PURCHASE              \n",
            "360           US                  US  ...        PURCHASE              \n",
            "427           US                  US  ...        PURCHASE              \n",
            "802           US                  US  ...        PURCHASE              \n",
            "842           US                  US  ...        PURCHASE              \n",
            "...          ...                 ...  ...             ...        ...   \n",
            "99858         US                  US  ...        PURCHASE              \n",
            "99895         US                  US  ...        PURCHASE              \n",
            "99906         US                  US  ...        PURCHASE              \n",
            "99922         US                  US  ...        PURCHASE              \n",
            "99973         US                  US  ...        PURCHASE              \n",
            "\n",
            "      merchantCity  merchantState merchantZip posOnPremises recurringAuthInd  \\\n",
            "127                                                                            \n",
            "360                                                                            \n",
            "427                                                                            \n",
            "802                                                                            \n",
            "842                                                                            \n",
            "...            ...            ...         ...           ...              ...   \n",
            "99858                                                                          \n",
            "99895                                                                          \n",
            "99906                                                                          \n",
            "99922                                                                          \n",
            "99973                                                                          \n",
            "\n",
            "       expirationDateKeyInMatch  isFraud  cardLast4Digits_len  \n",
            "127                       False    False                    4  \n",
            "360                       False     True                    4  \n",
            "427                       False    False                    4  \n",
            "802                       False    False                    4  \n",
            "842                       False    False                    4  \n",
            "...                         ...      ...                  ...  \n",
            "99858                     False    False                    4  \n",
            "99895                     False    False                    4  \n",
            "99906                     False    False                    4  \n",
            "99922                     False    False                    4  \n",
            "99973                     False    False                    4  \n",
            "\n",
            "[881 rows x 30 columns]\n"
          ]
        }
      ]
    },
    {
      "cell_type": "markdown",
      "source": [
        "## 5)Find and visualise the relation between currentBalance and availableMoney"
      ],
      "metadata": {
        "id": "PAHh_jQ71qpd"
      },
      "id": "PAHh_jQ71qpd"
    },
    {
      "cell_type": "code",
      "source": [
        "#correlation between currentBalance and availableMoney\n",
        "cor = df['currentBalance'].corr(df['availableMoney'])\n",
        "cor"
      ],
      "metadata": {
        "id": "mAn_6tGQ1k0p",
        "outputId": "fc373d86-2588-41ac-f6b6-36e38a7b5c35",
        "colab": {
          "base_uri": "https://localhost:8080/"
        }
      },
      "id": "mAn_6tGQ1k0p",
      "execution_count": 18,
      "outputs": [
        {
          "output_type": "execute_result",
          "data": {
            "text/plain": [
              "0.1028570781418153"
            ]
          },
          "metadata": {},
          "execution_count": 18
        }
      ]
    },
    {
      "cell_type": "code",
      "source": [
        "plt.scatter(df['currentBalance'], df['availableMoney'], alpha = 0.25)\n",
        "plt.show()"
      ],
      "metadata": {
        "id": "3xz1HjAA2CGy",
        "outputId": "92ff2b78-e78a-4bd6-e7ae-7a57663038c0",
        "colab": {
          "base_uri": "https://localhost:8080/",
          "height": 430
        }
      },
      "id": "3xz1HjAA2CGy",
      "execution_count": 19,
      "outputs": [
        {
          "output_type": "display_data",
          "data": {
            "text/plain": [
              "<Figure size 640x480 with 1 Axes>"
            ],
            "image/png": "[encoded data removed]"
          },
          "metadata": {}
        }
      ]
    },
    {
      "cell_type": "markdown",
      "source": [
        "# Classification/Regression - TASK 2"
      ],
      "metadata": {
        "id": "VZwTMpffKkfb"
      },
      "id": "VZwTMpffKkfb"
    },
    {
      "cell_type": "markdown",
      "source": [
        "### Perform following steps on the same dataset which you used for EDA.\n",
        "\n",
        "### Data Preprocessing (as per requirement)\n",
        "### Feature Engineering\n",
        "### Split dataset in train-test (80:20 ratio)\n",
        "### Model selection\n",
        "### Model training\n",
        "### Model evaluation\n",
        "### Fine-tune the Model\n",
        "### Make predictions\n",
        "### Summarize your model's performance by evaluation metrices"
      ],
      "metadata": {
        "id": "x7KOB9zmKrov"
      },
      "id": "x7KOB9zmKrov"
    },
    {
      "cell_type": "markdown",
      "source": [
        "**1. Data Preprocessing**"
      ],
      "metadata": {
        "id": "xKx5lUnlLNFB"
      },
      "id": "xKx5lUnlLNFB"
    },
    {
      "cell_type": "code",
      "source": [
        "import pandas as pd\n",
        "import matplotlib.pyplot as plt\n",
        "\n",
        "# Assuming the provided dataset is stored in a DataFrame called 'df'\n",
        "df = pd.read_json('transactions.json', lines=True)\n",
        "\n",
        "\n",
        "# Checking for missing values\n",
        "print(df.isnull().sum())\n",
        "# No missing values found, so no imputation is needed.\n",
        "\n",
        "# Outlier handling\n",
        "#if required, we can use techniques like Z-score\n",
        "\n"
      ],
      "metadata": {
        "colab": {
          "base_uri": "https://localhost:8080/"
        },
        "id": "ECQHjr73LKPF",
        "outputId": "24839e84-6f28-4410-9208-0b0252d526ad"
      },
      "id": "ECQHjr73LKPF",
      "execution_count": 20,
      "outputs": [
        {
          "output_type": "stream",
          "name": "stdout",
          "text": [
            "accountNumber               0\n",
            "customerId                  0\n",
            "creditLimit                 0\n",
            "availableMoney              0\n",
            "currentBalance              0\n",
            "transactionDateTime         0\n",
            "transactionAmount           0\n",
            "merchantName                0\n",
            "acqCountry                  0\n",
            "merchantCountryCode         0\n",
            "posEntryMode                0\n",
            "posConditionCode            0\n",
            "merchantCategoryCode        0\n",
            "cardPresent                 0\n",
            "currentExpDate              0\n",
            "accountOpenDate             0\n",
            "dateOfLastAddressChange     0\n",
            "cardCVV                     0\n",
            "enteredCVV                  0\n",
            "cardLast4Digits             0\n",
            "transactionType             0\n",
            "echoBuffer                  0\n",
            "merchantCity                0\n",
            "merchantState               0\n",
            "merchantZip                 0\n",
            "posOnPremises               0\n",
            "recurringAuthInd            0\n",
            "expirationDateKeyInMatch    0\n",
            "isFraud                     0\n",
            "dtype: int64\n"
          ]
        }
      ]
    },
    {
      "cell_type": "code",
      "source": [
        "# Encoding categorical variables (if any)\n",
        "df['transactionDateTime'] = pd.to_datetime(df['transactionDateTime'])\n",
        "df['transactionDateTime'] = pd.to_datetime(df['transactionDateTime']).apply(lambda x: x.timestamp())\n",
        "\n",
        "\n",
        "\n",
        "# Assuming there are no categorical variables in this dataset, we can proceed to the next step.\n",
        "print(df.dtypes)"
      ],
      "metadata": {
        "colab": {
          "base_uri": "https://localhost:8080/"
        },
        "id": "B1C7Nh7xMcxq",
        "outputId": "a72be81f-deb1-49cd-fc4d-446081281c7d"
      },
      "id": "B1C7Nh7xMcxq",
      "execution_count": 21,
      "outputs": [
        {
          "output_type": "stream",
          "name": "stdout",
          "text": [
            "accountNumber                 int64\n",
            "customerId                    int64\n",
            "creditLimit                   int64\n",
            "availableMoney              float64\n",
            "currentBalance              float64\n",
            "transactionDateTime         float64\n",
            "transactionAmount           float64\n",
            "merchantName                 object\n",
            "acqCountry                   object\n",
            "merchantCountryCode          object\n",
            "posEntryMode                 object\n",
            "posConditionCode             object\n",
            "merchantCategoryCode         object\n",
            "cardPresent                    bool\n",
            "currentExpDate               object\n",
            "accountOpenDate              object\n",
            "dateOfLastAddressChange      object\n",
            "cardCVV                       int64\n",
            "enteredCVV                    int64\n",
            "cardLast4Digits               int64\n",
            "transactionType              object\n",
            "echoBuffer                   object\n",
            "merchantCity                 object\n",
            "merchantState                object\n",
            "merchantZip                  object\n",
            "posOnPremises                object\n",
            "recurringAuthInd             object\n",
            "expirationDateKeyInMatch       bool\n",
            "isFraud                        bool\n",
            "dtype: object\n"
          ]
        }
      ]
    },
    {
      "cell_type": "code",
      "source": [
        "# describe the data at one place, representing mean, variance, std, etc\n",
        "df.describe()"
      ],
      "metadata": {
        "colab": {
          "base_uri": "https://localhost:8080/",
          "height": 300
        },
        "id": "oo7mvo-PMfuW",
        "outputId": "4780f1f1-8418-4e89-a698-ef5be8736424"
      },
      "id": "oo7mvo-PMfuW",
      "execution_count": 22,
      "outputs": [
        {
          "output_type": "execute_result",
          "data": {
            "text/plain": [
              "       accountNumber    customerId    creditLimit  availableMoney  \\\n",
              "count   1.000000e+05  1.000000e+05  100000.000000   100000.000000   \n",
              "mean    5.556877e+08  5.556877e+08   10719.992500     6636.389995   \n",
              "std     2.545762e+08  2.545762e+08   11506.778078     9205.712429   \n",
              "min     1.005471e+08  1.005471e+08     250.000000    -1112.120000   \n",
              "25%     3.224398e+08  3.224398e+08    5000.000000     1122.822500   \n",
              "50%     5.470629e+08  5.470629e+08    7500.000000     3580.385000   \n",
              "75%     7.867212e+08  7.867212e+08   15000.000000     8148.970000   \n",
              "max     9.999853e+08  9.999853e+08   50000.000000    50000.000000   \n",
              "\n",
              "       currentBalance  transactionDateTime  transactionAmount        cardCVV  \\\n",
              "count   100000.000000         1.000000e+05      100000.000000  100000.000000   \n",
              "mean      4083.602505         1.467788e+09         135.553147     556.543570   \n",
              "std       6021.439041         9.095412e+06         146.691214     257.056592   \n",
              "min          0.000000         1.451607e+09           0.000000     100.000000   \n",
              "25%        501.692500         1.459989e+09          32.810000     332.000000   \n",
              "50%       2162.500000         1.467931e+09          86.460000     582.000000   \n",
              "75%       5044.535000         1.475745e+09         190.200000     760.000000   \n",
              "max      47481.130000         1.483142e+09        1506.210000     998.000000   \n",
              "\n",
              "          enteredCVV  cardLast4Digits  \n",
              "count  100000.000000    100000.000000  \n",
              "mean      556.138290      4890.904900  \n",
              "std       257.159952      2857.701925  \n",
              "min         7.000000         0.000000  \n",
              "25%       331.000000      2368.000000  \n",
              "50%       581.000000      4873.000000  \n",
              "75%       760.000000      7281.000000  \n",
              "max       998.000000      9998.000000  "
            ],
            "text/html": [
              "\n",
              "  <div id=\"df-99a3d2f9-86fd-48ab-88e7-1c71b7ad9a71\">\n",
              "    <div class=\"colab-df-container\">\n",
              "      <div>\n",
              "<style scoped>\n",
              "    .dataframe tbody tr th:only-of-type {\n",
              "        vertical-align: middle;\n",
              "    }\n",
              "\n",
              "    .dataframe tbody tr th {\n",
              "        vertical-align: top;\n",
              "    }\n",
              "\n",
              "    .dataframe thead th {\n",
              "        text-align: right;\n",
              "    }\n",
              "</style>\n",
              "<table border=\"1\" class=\"dataframe\">\n",
              "  <thead>\n",
              "    <tr style=\"text-align: right;\">\n",
              "      <th></th>\n",
              "      <th>accountNumber</th>\n",
              "      <th>customerId</th>\n",
              "      <th>creditLimit</th>\n",
              "      <th>availableMoney</th>\n",
              "      <th>currentBalance</th>\n",
              "      <th>transactionDateTime</th>\n",
              "      <th>transactionAmount</th>\n",
              "      <th>cardCVV</th>\n",
              "      <th>enteredCVV</th>\n",
              "      <th>cardLast4Digits</th>\n",
              "    </tr>\n",
              "  </thead>\n",
              "  <tbody>\n",
              "    <tr>\n",
              "      <th>count</th>\n",
              "      <td>1.000000e+05</td>\n",
              "      <td>1.000000e+05</td>\n",
              "      <td>100000.000000</td>\n",
              "      <td>100000.000000</td>\n",
              "      <td>100000.000000</td>\n",
              "      <td>1.000000e+05</td>\n",
              "      <td>100000.000000</td>\n",
              "      <td>100000.000000</td>\n",
              "      <td>100000.000000</td>\n",
              "      <td>100000.000000</td>\n",
              "    </tr>\n",
              "    <tr>\n",
              "      <th>mean</th>\n",
              "      <td>5.556877e+08</td>\n",
              "      <td>5.556877e+08</td>\n",
              "      <td>10719.992500</td>\n",
              "      <td>6636.389995</td>\n",
              "      <td>4083.602505</td>\n",
              "      <td>1.467788e+09</td>\n",
              "      <td>135.553147</td>\n",
              "      <td>556.543570</td>\n",
              "      <td>556.138290</td>\n",
              "      <td>4890.904900</td>\n",
              "    </tr>\n",
              "    <tr>\n",
              "      <th>std</th>\n",
              "      <td>2.545762e+08</td>\n",
              "      <td>2.545762e+08</td>\n",
              "      <td>11506.778078</td>\n",
              "      <td>9205.712429</td>\n",
              "      <td>6021.439041</td>\n",
              "      <td>9.095412e+06</td>\n",
              "      <td>146.691214</td>\n",
              "      <td>257.056592</td>\n",
              "      <td>257.159952</td>\n",
              "      <td>2857.701925</td>\n",
              "    </tr>\n",
              "    <tr>\n",
              "      <th>min</th>\n",
              "      <td>1.005471e+08</td>\n",
              "      <td>1.005471e+08</td>\n",
              "      <td>250.000000</td>\n",
              "      <td>-1112.120000</td>\n",
              "      <td>0.000000</td>\n",
              "      <td>1.451607e+09</td>\n",
              "      <td>0.000000</td>\n",
              "      <td>100.000000</td>\n",
              "      <td>7.000000</td>\n",
              "      <td>0.000000</td>\n",
              "    </tr>\n",
              "    <tr>\n",
              "      <th>25%</th>\n",
              "      <td>3.224398e+08</td>\n",
              "      <td>3.224398e+08</td>\n",
              "      <td>5000.000000</td>\n",
              "      <td>1122.822500</td>\n",
              "      <td>501.692500</td>\n",
              "      <td>1.459989e+09</td>\n",
              "      <td>32.810000</td>\n",
              "      <td>332.000000</td>\n",
              "      <td>331.000000</td>\n",
              "      <td>2368.000000</td>\n",
              "    </tr>\n",
              "    <tr>\n",
              "      <th>50%</th>\n",
              "      <td>5.470629e+08</td>\n",
              "      <td>5.470629e+08</td>\n",
              "      <td>7500.000000</td>\n",
              "      <td>3580.385000</td>\n",
              "      <td>2162.500000</td>\n",
              "      <td>1.467931e+09</td>\n",
              "      <td>86.460000</td>\n",
              "      <td>582.000000</td>\n",
              "      <td>581.000000</td>\n",
              "      <td>4873.000000</td>\n",
              "    </tr>\n",
              "    <tr>\n",
              "      <th>75%</th>\n",
              "      <td>7.867212e+08</td>\n",
              "      <td>7.867212e+08</td>\n",
              "      <td>15000.000000</td>\n",
              "      <td>8148.970000</td>\n",
              "      <td>5044.535000</td>\n",
              "      <td>1.475745e+09</td>\n",
              "      <td>190.200000</td>\n",
              "      <td>760.000000</td>\n",
              "      <td>760.000000</td>\n",
              "      <td>7281.000000</td>\n",
              "    </tr>\n",
              "    <tr>\n",
              "      <th>max</th>\n",
              "      <td>9.999853e+08</td>\n",
              "      <td>9.999853e+08</td>\n",
              "      <td>50000.000000</td>\n",
              "      <td>50000.000000</td>\n",
              "      <td>47481.130000</td>\n",
              "      <td>1.483142e+09</td>\n",
              "      <td>1506.210000</td>\n",
              "      <td>998.000000</td>\n",
              "      <td>998.000000</td>\n",
              "      <td>9998.000000</td>\n",
              "    </tr>\n",
              "  </tbody>\n",
              "</table>\n",
              "</div>\n",
              "      <button class=\"colab-df-convert\" onclick=\"convertToInteractive('df-99a3d2f9-86fd-48ab-88e7-1c71b7ad9a71')\"\n",
              "              title=\"Convert this dataframe to an interactive table.\"\n",
              "              style=\"display:none;\">\n",
              "        \n",
              "  <svg xmlns=\"http://www.w3.org/2000/svg\" height=\"24px\"viewBox=\"0 0 24 24\"\n",
              "       width=\"24px\">\n",
              "    <path d=\"M0 0h24v24H0V0z\" fill=\"none\"/>\n",
              "    <path d=\"M18.56 5.44l.94 2.06.94-2.06 2.06-.94-2.06-.94-.94-2.06-.94 2.06-2.06.94zm-11 1L8.5 8.5l.94-2.06 2.06-.94-2.06-.94L8.5 2.5l-.94 2.06-2.06.94zm10 10l.94 2.06.94-2.06 2.06-.94-2.06-.94-.94-2.06-.94 2.06-2.06.94z\"/><path d=\"M17.41 7.96l-1.37-1.37c-.4-.4-.92-.59-1.43-.59-.52 0-1.04.2-1.43.59L10.3 9.45l-7.72 7.72c-.78.78-.78 2.05 0 2.83L4 21.41c.39.39.9.59 1.41.59.51 0 1.02-.2 1.41-.59l7.78-7.78 2.81-2.81c.8-.78.8-2.07 0-2.86zM5.41 20L4 18.59l7.72-7.72 1.47 1.35L5.41 20z\"/>\n",
              "  </svg>\n",
              "      </button>\n",
              "      \n",
              "  <style>\n",
              "    .colab-df-container {\n",
              "      display:flex;\n",
              "      flex-wrap:wrap;\n",
              "      gap: 12px;\n",
              "    }\n",
              "\n",
              "    .colab-df-convert {\n",
              "      background-color: #E8F0FE;\n",
              "      border: none;\n",
              "      border-radius: 50%;\n",
              "      cursor: pointer;\n",
              "      display: none;\n",
              "      fill: #1967D2;\n",
              "      height: 32px;\n",
              "      padding: 0 0 0 0;\n",
              "      width: 32px;\n",
              "    }\n",
              "\n",
              "    .colab-df-convert:hover {\n",
              "      background-color: #E2EBFA;\n",
              "      box-shadow: 0px 1px 2px rgba(60, 64, 67, 0.3), 0px 1px 3px 1px rgba(60, 64, 67, 0.15);\n",
              "      fill: #174EA6;\n",
              "    }\n",
              "\n",
              "    [theme=dark] .colab-df-convert {\n",
              "      background-color: #3B4455;\n",
              "      fill: #D2E3FC;\n",
              "    }\n",
              "\n",
              "    [theme=dark] .colab-df-convert:hover {\n",
              "      background-color: #434B5C;\n",
              "      box-shadow: 0px 1px 3px 1px rgba(0, 0, 0, 0.15);\n",
              "      filter: drop-shadow(0px 1px 2px rgba(0, 0, 0, 0.3));\n",
              "      fill: #FFFFFF;\n",
              "    }\n",
              "  </style>\n",
              "\n",
              "      <script>\n",
              "        const buttonEl =\n",
              "          document.querySelector('#df-99a3d2f9-86fd-48ab-88e7-1c71b7ad9a71 button.colab-df-convert');\n",
              "        buttonEl.style.display =\n",
              "          google.colab.kernel.accessAllowed ? 'block' : 'none';\n",
              "\n",
              "        async function convertToInteractive(key) {\n",
              "          const element = document.querySelector('#df-99a3d2f9-86fd-48ab-88e7-1c71b7ad9a71');\n",
              "          const dataTable =\n",
              "            await google.colab.kernel.invokeFunction('convertToInteractive',\n",
              "                                                     [key], {});\n",
              "          if (!dataTable) return;\n",
              "\n",
              "          const docLinkHtml = 'Like what you see? Visit the ' +\n",
              "            '<a target=\"_blank\" href=https://colab.research.google.com/notebooks/data_table.ipynb>data table notebook</a>'\n",
              "            + ' to learn more about interactive tables.';\n",
              "          element.innerHTML = '';\n",
              "          dataTable['output_type'] = 'display_data';\n",
              "          await google.colab.output.renderOutput(dataTable, element);\n",
              "          const docLink = document.createElement('div');\n",
              "          docLink.innerHTML = docLinkHtml;\n",
              "          element.appendChild(docLink);\n",
              "        }\n",
              "      </script>\n",
              "    </div>\n",
              "  </div>\n",
              "  "
            ]
          },
          "metadata": {},
          "execution_count": 22
        }
      ]
    },
    {
      "cell_type": "code",
      "source": [
        "df['isFraud'].value_counts()/100000"
      ],
      "metadata": {
        "colab": {
          "base_uri": "https://localhost:8080/"
        },
        "id": "3ti2YS55y0Cl",
        "outputId": "43bb39d7-8452-435b-cda4-c7d850d30a3b"
      },
      "id": "3ti2YS55y0Cl",
      "execution_count": 110,
      "outputs": [
        {
          "output_type": "execute_result",
          "data": {
            "text/plain": [
              "False    0.98285\n",
              "True     0.01715\n",
              "Name: isFraud, dtype: float64"
            ]
          },
          "metadata": {},
          "execution_count": 110
        }
      ]
    },
    {
      "cell_type": "code",
      "source": [
        "df[df['isFraud']==1]['transactionAmount']"
      ],
      "metadata": {
        "colab": {
          "base_uri": "https://localhost:8080/"
        },
        "id": "E2a5nZ9Xy39Q",
        "outputId": "d656f5e1-62e2-420e-ee71-23ffa350fc96"
      },
      "id": "E2a5nZ9Xy39Q",
      "execution_count": 111,
      "outputs": [
        {
          "output_type": "execute_result",
          "data": {
            "text/plain": [
              "35       369.40\n",
              "134       75.87\n",
              "187       84.65\n",
              "328       94.45\n",
              "337      122.88\n",
              "          ...  \n",
              "99687    687.75\n",
              "99707     70.34\n",
              "99853     86.65\n",
              "99854    440.71\n",
              "99997    165.61\n",
              "Name: transactionAmount, Length: 1715, dtype: float64"
            ]
          },
          "metadata": {},
          "execution_count": 111
        }
      ]
    },
    {
      "cell_type": "code",
      "source": [
        "df[df['isFraud']==1]['transactionAmount'].sum()/1715"
      ],
      "metadata": {
        "colab": {
          "base_uri": "https://localhost:8080/"
        },
        "id": "uDG3urZWy8CK",
        "outputId": "b10575f8-a6f0-4a77-c13b-c9a924624211"
      },
      "id": "uDG3urZWy8CK",
      "execution_count": 112,
      "outputs": [
        {
          "output_type": "execute_result",
          "data": {
            "text/plain": [
              "230.40145189504372"
            ]
          },
          "metadata": {},
          "execution_count": 112
        }
      ]
    },
    {
      "cell_type": "code",
      "source": [
        "df[df['isFraud']==1]['transactionAmount'].sum()"
      ],
      "metadata": {
        "colab": {
          "base_uri": "https://localhost:8080/"
        },
        "id": "otY3VdWfy_v6",
        "outputId": "b8a17c3b-be7a-4dd6-f11d-dd6e19ef3206"
      },
      "id": "otY3VdWfy_v6",
      "execution_count": 113,
      "outputs": [
        {
          "output_type": "execute_result",
          "data": {
            "text/plain": [
              "395138.49"
            ]
          },
          "metadata": {},
          "execution_count": 113
        }
      ]
    },
    {
      "cell_type": "code",
      "source": [
        "df[df['isFraud']==0]['transactionAmount'].sum()"
      ],
      "metadata": {
        "colab": {
          "base_uri": "https://localhost:8080/"
        },
        "id": "81806WTzzDD3",
        "outputId": "564e76e5-3d78-49e8-974b-ac741cc0895c"
      },
      "id": "81806WTzzDD3",
      "execution_count": 114,
      "outputs": [
        {
          "output_type": "execute_result",
          "data": {
            "text/plain": [
              "13160176.26"
            ]
          },
          "metadata": {},
          "execution_count": 114
        }
      ]
    },
    {
      "cell_type": "markdown",
      "source": [
        "**Feature Engineering**"
      ],
      "metadata": {
        "id": "-THrxMXFM5FD"
      },
      "id": "-THrxMXFM5FD"
    },
    {
      "cell_type": "code",
      "source": [
        "from sklearn import preprocessing\n",
        "le=preprocessing.LabelEncoder()\n",
        "df['isFraud']=le.fit_transform(df['isFraud']).astype(float)\n",
        "df['transactionType']=le.fit_transform(df['transactionType'])\n",
        "from sklearn.preprocessing import MinMaxScaler\n",
        "import seaborn as sns\n",
        "import scipy\n",
        "import numpy as np"
      ],
      "metadata": {
        "id": "GJ9CQpB4M-xX"
      },
      "id": "GJ9CQpB4M-xX",
      "execution_count": 115,
      "outputs": []
    },
    {
      "cell_type": "code",
      "source": [
        "corr=df.corr()\n",
        "plt.figure(dpi=130)\n",
        "sns.heatmap(df.corr(),annot=True,fmt='.2f')\n",
        "\n",
        "plt.show()"
      ],
      "metadata": {
        "colab": {
          "base_uri": "https://localhost:8080/",
          "height": 720
        },
        "id": "Hq4Fd9bSNDZy",
        "outputId": "c44b9a81-86a4-44e1-bf3f-087fa48cefa9"
      },
      "id": "Hq4Fd9bSNDZy",
      "execution_count": 118,
      "outputs": [
        {
          "output_type": "display_data",
          "data": {
            "text/plain": [
              "<Figure size 832x624 with 2 Axes>"
            ],
            "image/png": "[encoded data removed]"
          },
          "metadata": {}
        }
      ]
    },
    {
      "cell_type": "code",
      "source": [
        "df.head()"
      ],
      "metadata": {
        "colab": {
          "base_uri": "https://localhost:8080/",
          "height": 206
        },
        "id": "NJ2fIZ_iNGJ6",
        "outputId": "4a7ab9b6-f12e-4f8c-8135-50aada4f146c"
      },
      "id": "NJ2fIZ_iNGJ6",
      "execution_count": 117,
      "outputs": [
        {
          "output_type": "execute_result",
          "data": {
            "text/plain": [
              "   accountNumber  customerId  creditLimit  availableMoney  currentBalance  \\\n",
              "0      946817886   946817886        50000        47919.19         2080.81   \n",
              "1      318001076   318001076        50000        18138.87        31861.13   \n",
              "2      953935422   953935422        20000        15764.65         4235.35   \n",
              "3      773863988   773863988         5000         2543.92         2456.08   \n",
              "4      918205645   918205645          500           99.81          400.19   \n",
              "\n",
              "   transactionAmount  cardCVV  enteredCVV  cardLast4Digits  transactionType  \\\n",
              "0              18.20      645         645             3822                2   \n",
              "1              80.95      633         633             1789                2   \n",
              "2               4.23      429         429             9175                2   \n",
              "3             268.30      598         598               66                2   \n",
              "4              31.71      302         302             8177                2   \n",
              "\n",
              "   isFraud  cardLast4Digits_len  \n",
              "0      0.0                    4  \n",
              "1      0.0                    4  \n",
              "2      0.0                    4  \n",
              "3      0.0                    2  \n",
              "4      0.0                    4  "
            ],
            "text/html": [
              "\n",
              "  <div id=\"df-fb3b3f4c-10ec-4150-a19f-35fd8e6b2712\">\n",
              "    <div class=\"colab-df-container\">\n",
              "      <div>\n",
              "<style scoped>\n",
              "    .dataframe tbody tr th:only-of-type {\n",
              "        vertical-align: middle;\n",
              "    }\n",
              "\n",
              "    .dataframe tbody tr th {\n",
              "        vertical-align: top;\n",
              "    }\n",
              "\n",
              "    .dataframe thead th {\n",
              "        text-align: right;\n",
              "    }\n",
              "</style>\n",
              "<table border=\"1\" class=\"dataframe\">\n",
              "  <thead>\n",
              "    <tr style=\"text-align: right;\">\n",
              "      <th></th>\n",
              "      <th>accountNumber</th>\n",
              "      <th>customerId</th>\n",
              "      <th>creditLimit</th>\n",
              "      <th>availableMoney</th>\n",
              "      <th>currentBalance</th>\n",
              "      <th>transactionAmount</th>\n",
              "      <th>cardCVV</th>\n",
              "      <th>enteredCVV</th>\n",
              "      <th>cardLast4Digits</th>\n",
              "      <th>transactionType</th>\n",
              "      <th>isFraud</th>\n",
              "      <th>cardLast4Digits_len</th>\n",
              "    </tr>\n",
              "  </thead>\n",
              "  <tbody>\n",
              "    <tr>\n",
              "      <th>0</th>\n",
              "      <td>946817886</td>\n",
              "      <td>946817886</td>\n",
              "      <td>50000</td>\n",
              "      <td>47919.19</td>\n",
              "      <td>2080.81</td>\n",
              "      <td>18.20</td>\n",
              "      <td>645</td>\n",
              "      <td>645</td>\n",
              "      <td>3822</td>\n",
              "      <td>2</td>\n",
              "      <td>0.0</td>\n",
              "      <td>4</td>\n",
              "    </tr>\n",
              "    <tr>\n",
              "      <th>1</th>\n",
              "      <td>318001076</td>\n",
              "      <td>318001076</td>\n",
              "      <td>50000</td>\n",
              "      <td>18138.87</td>\n",
              "      <td>31861.13</td>\n",
              "      <td>80.95</td>\n",
              "      <td>633</td>\n",
              "      <td>633</td>\n",
              "      <td>1789</td>\n",
              "      <td>2</td>\n",
              "      <td>0.0</td>\n",
              "      <td>4</td>\n",
              "    </tr>\n",
              "    <tr>\n",
              "      <th>2</th>\n",
              "      <td>953935422</td>\n",
              "      <td>953935422</td>\n",
              "      <td>20000</td>\n",
              "      <td>15764.65</td>\n",
              "      <td>4235.35</td>\n",
              "      <td>4.23</td>\n",
              "      <td>429</td>\n",
              "      <td>429</td>\n",
              "      <td>9175</td>\n",
              "      <td>2</td>\n",
              "      <td>0.0</td>\n",
              "      <td>4</td>\n",
              "    </tr>\n",
              "    <tr>\n",
              "      <th>3</th>\n",
              "      <td>773863988</td>\n",
              "      <td>773863988</td>\n",
              "      <td>5000</td>\n",
              "      <td>2543.92</td>\n",
              "      <td>2456.08</td>\n",
              "      <td>268.30</td>\n",
              "      <td>598</td>\n",
              "      <td>598</td>\n",
              "      <td>66</td>\n",
              "      <td>2</td>\n",
              "      <td>0.0</td>\n",
              "      <td>2</td>\n",
              "    </tr>\n",
              "    <tr>\n",
              "      <th>4</th>\n",
              "      <td>918205645</td>\n",
              "      <td>918205645</td>\n",
              "      <td>500</td>\n",
              "      <td>99.81</td>\n",
              "      <td>400.19</td>\n",
              "      <td>31.71</td>\n",
              "      <td>302</td>\n",
              "      <td>302</td>\n",
              "      <td>8177</td>\n",
              "      <td>2</td>\n",
              "      <td>0.0</td>\n",
              "      <td>4</td>\n",
              "    </tr>\n",
              "  </tbody>\n",
              "</table>\n",
              "</div>\n",
              "      <button class=\"colab-df-convert\" onclick=\"convertToInteractive('df-fb3b3f4c-10ec-4150-a19f-35fd8e6b2712')\"\n",
              "              title=\"Convert this dataframe to an interactive table.\"\n",
              "              style=\"display:none;\">\n",
              "        \n",
              "  <svg xmlns=\"http://www.w3.org/2000/svg\" height=\"24px\"viewBox=\"0 0 24 24\"\n",
              "       width=\"24px\">\n",
              "    <path d=\"M0 0h24v24H0V0z\" fill=\"none\"/>\n",
              "    <path d=\"M18.56 5.44l.94 2.06.94-2.06 2.06-.94-2.06-.94-.94-2.06-.94 2.06-2.06.94zm-11 1L8.5 8.5l.94-2.06 2.06-.94-2.06-.94L8.5 2.5l-.94 2.06-2.06.94zm10 10l.94 2.06.94-2.06 2.06-.94-2.06-.94-.94-2.06-.94 2.06-2.06.94z\"/><path d=\"M17.41 7.96l-1.37-1.37c-.4-.4-.92-.59-1.43-.59-.52 0-1.04.2-1.43.59L10.3 9.45l-7.72 7.72c-.78.78-.78 2.05 0 2.83L4 21.41c.39.39.9.59 1.41.59.51 0 1.02-.2 1.41-.59l7.78-7.78 2.81-2.81c.8-.78.8-2.07 0-2.86zM5.41 20L4 18.59l7.72-7.72 1.47 1.35L5.41 20z\"/>\n",
              "  </svg>\n",
              "      </button>\n",
              "      \n",
              "  <style>\n",
              "    .colab-df-container {\n",
              "      display:flex;\n",
              "      flex-wrap:wrap;\n",
              "      gap: 12px;\n",
              "    }\n",
              "\n",
              "    .colab-df-convert {\n",
              "      background-color: #E8F0FE;\n",
              "      border: none;\n",
              "      border-radius: 50%;\n",
              "      cursor: pointer;\n",
              "      display: none;\n",
              "      fill: #1967D2;\n",
              "      height: 32px;\n",
              "      padding: 0 0 0 0;\n",
              "      width: 32px;\n",
              "    }\n",
              "\n",
              "    .colab-df-convert:hover {\n",
              "      background-color: #E2EBFA;\n",
              "      box-shadow: 0px 1px 2px rgba(60, 64, 67, 0.3), 0px 1px 3px 1px rgba(60, 64, 67, 0.15);\n",
              "      fill: #174EA6;\n",
              "    }\n",
              "\n",
              "    [theme=dark] .colab-df-convert {\n",
              "      background-color: #3B4455;\n",
              "      fill: #D2E3FC;\n",
              "    }\n",
              "\n",
              "    [theme=dark] .colab-df-convert:hover {\n",
              "      background-color: #434B5C;\n",
              "      box-shadow: 0px 1px 3px 1px rgba(0, 0, 0, 0.15);\n",
              "      filter: drop-shadow(0px 1px 2px rgba(0, 0, 0, 0.3));\n",
              "      fill: #FFFFFF;\n",
              "    }\n",
              "  </style>\n",
              "\n",
              "      <script>\n",
              "        const buttonEl =\n",
              "          document.querySelector('#df-fb3b3f4c-10ec-4150-a19f-35fd8e6b2712 button.colab-df-convert');\n",
              "        buttonEl.style.display =\n",
              "          google.colab.kernel.accessAllowed ? 'block' : 'none';\n",
              "\n",
              "        async function convertToInteractive(key) {\n",
              "          const element = document.querySelector('#df-fb3b3f4c-10ec-4150-a19f-35fd8e6b2712');\n",
              "          const dataTable =\n",
              "            await google.colab.kernel.invokeFunction('convertToInteractive',\n",
              "                                                     [key], {});\n",
              "          if (!dataTable) return;\n",
              "\n",
              "          const docLinkHtml = 'Like what you see? Visit the ' +\n",
              "            '<a target=\"_blank\" href=https://colab.research.google.com/notebooks/data_table.ipynb>data table notebook</a>'\n",
              "            + ' to learn more about interactive tables.';\n",
              "          element.innerHTML = '';\n",
              "          dataTable['output_type'] = 'display_data';\n",
              "          await google.colab.output.renderOutput(dataTable, element);\n",
              "          const docLink = document.createElement('div');\n",
              "          docLink.innerHTML = docLinkHtml;\n",
              "          element.appendChild(docLink);\n",
              "        }\n",
              "      </script>\n",
              "    </div>\n",
              "  </div>\n",
              "  "
            ]
          },
          "metadata": {},
          "execution_count": 117
        }
      ]
    },
    {
      "cell_type": "markdown",
      "source": [
        "**Split dataset in train-test**"
      ],
      "metadata": {
        "id": "iRp0nvVjNTq8"
      },
      "id": "iRp0nvVjNTq8"
    },
    {
      "cell_type": "code",
      "source": [
        "from sklearn.model_selection import train_test_split\n",
        "\n",
        "X = df.drop('isFraud', axis=1)\n",
        "Y = df['isFraud']  # Assign the 'isFraud' column to Y\n",
        "\n",
        "X_train, X_test, Y_train, Y_test = train_test_split(X, Y, test_size=0.2)\n",
        "# test size 20% train size 80%\n",
        "\n"
      ],
      "metadata": {
        "id": "jiPC7wNZsK1I"
      },
      "id": "jiPC7wNZsK1I",
      "execution_count": 119,
      "outputs": []
    },
    {
      "cell_type": "code",
      "source": [
        "print(X_train.shape, Y_train.shape)"
      ],
      "metadata": {
        "colab": {
          "base_uri": "https://localhost:8080/"
        },
        "id": "PNmRaWJQtSXw",
        "outputId": "78baca09-02ec-44dd-d8ca-48443266d40c"
      },
      "id": "PNmRaWJQtSXw",
      "execution_count": 120,
      "outputs": [
        {
          "output_type": "stream",
          "name": "stdout",
          "text": [
            "(80000, 11) (80000,)\n"
          ]
        }
      ]
    },
    {
      "cell_type": "code",
      "source": [
        "X_test.shape,Y_test.shape"
      ],
      "metadata": {
        "colab": {
          "base_uri": "https://localhost:8080/"
        },
        "id": "w9G1AHbOtDca",
        "outputId": "dd10640b-283a-40db-857b-40f4faaae606"
      },
      "id": "w9G1AHbOtDca",
      "execution_count": 121,
      "outputs": [
        {
          "output_type": "execute_result",
          "data": {
            "text/plain": [
              "((20000, 11), (20000,))"
            ]
          },
          "metadata": {},
          "execution_count": 121
        }
      ]
    },
    {
      "cell_type": "markdown",
      "source": [
        "**Model Selection**"
      ],
      "metadata": {
        "id": "1zjQbKzitdjQ"
      },
      "id": "1zjQbKzitdjQ"
    },
    {
      "cell_type": "code",
      "source": [
        "from sklearn.linear_model import LogisticRegression\n",
        "model=LogisticRegression()\n",
        "X=df.drop(columns=['isFraud'])\n",
        "Y=df.isFraud\n"
      ],
      "metadata": {
        "id": "K6liop-ttdO8"
      },
      "id": "K6liop-ttdO8",
      "execution_count": 122,
      "outputs": []
    },
    {
      "cell_type": "code",
      "source": [
        "model.fit(X,Y)"
      ],
      "metadata": {
        "colab": {
          "base_uri": "https://localhost:8080/",
          "height": 75
        },
        "id": "Oq-XQpZltnEo",
        "outputId": "2b7bb422-054c-439a-db51-78f2b7fdf5b0"
      },
      "id": "Oq-XQpZltnEo",
      "execution_count": 123,
      "outputs": [
        {
          "output_type": "execute_result",
          "data": {
            "text/plain": [
              "LogisticRegression()"
            ],
            "text/html": [
              "<style>#sk-container-id-1 {color: black;background-color: white;}#sk-container-id-1 pre{padding: 0;}#sk-container-id-1 div.sk-toggleable {background-color: white;}#sk-container-id-1 label.sk-toggleable__label {cursor: pointer;display: block;width: 100%;margin-bottom: 0;padding: 0.3em;box-sizing: border-box;text-align: center;}#sk-container-id-1 label.sk-toggleable__label-arrow:before {content: \"▸\";float: left;margin-right: 0.25em;color: #696969;}#sk-container-id-1 label.sk-toggleable__label-arrow:hover:before {color: black;}#sk-container-id-1 div.sk-estimator:hover label.sk-toggleable__label-arrow:before {color: black;}#sk-container-id-1 div.sk-toggleable__content {max-height: 0;max-width: 0;overflow: hidden;text-align: left;background-color: #f0f8ff;}#sk-container-id-1 div.sk-toggleable__content pre {margin: 0.2em;color: black;border-radius: 0.25em;background-color: #f0f8ff;}#sk-container-id-1 input.sk-toggleable__control:checked~div.sk-toggleable__content {max-height: 200px;max-width: 100%;overflow: auto;}#sk-container-id-1 input.sk-toggleable__control:checked~label.sk-toggleable__label-arrow:before {content: \"▾\";}#sk-container-id-1 div.sk-estimator input.sk-toggleable__control:checked~label.sk-toggleable__label {background-color: #d4ebff;}#sk-container-id-1 div.sk-label input.sk-toggleable__control:checked~label.sk-toggleable__label {background-color: #d4ebff;}#sk-container-id-1 input.sk-hidden--visually {border: 0;clip: rect(1px 1px 1px 1px);clip: rect(1px, 1px, 1px, 1px);height: 1px;margin: -1px;overflow: hidden;padding: 0;position: absolute;width: 1px;}#sk-container-id-1 div.sk-estimator {font-family: monospace;background-color: #f0f8ff;border: 1px dotted black;border-radius: 0.25em;box-sizing: border-box;margin-bottom: 0.5em;}#sk-container-id-1 div.sk-estimator:hover {background-color: #d4ebff;}#sk-container-id-1 div.sk-parallel-item::after {content: \"\";width: 100%;border-bottom: 1px solid gray;flex-grow: 1;}#sk-container-id-1 div.sk-label:hover label.sk-toggleable__label {background-color: #d4ebff;}#sk-container-id-1 div.sk-serial::before {content: \"\";position: absolute;border-left: 1px solid gray;box-sizing: border-box;top: 0;bottom: 0;left: 50%;z-index: 0;}#sk-container-id-1 div.sk-serial {display: flex;flex-direction: column;align-items: center;background-color: white;padding-right: 0.2em;padding-left: 0.2em;position: relative;}#sk-container-id-1 div.sk-item {position: relative;z-index: 1;}#sk-container-id-1 div.sk-parallel {display: flex;align-items: stretch;justify-content: center;background-color: white;position: relative;}#sk-container-id-1 div.sk-item::before, #sk-container-id-1 div.sk-parallel-item::before {content: \"\";position: absolute;border-left: 1px solid gray;box-sizing: border-box;top: 0;bottom: 0;left: 50%;z-index: -1;}#sk-container-id-1 div.sk-parallel-item {display: flex;flex-direction: column;z-index: 1;position: relative;background-color: white;}#sk-container-id-1 div.sk-parallel-item:first-child::after {align-self: flex-end;width: 50%;}#sk-container-id-1 div.sk-parallel-item:last-child::after {align-self: flex-start;width: 50%;}#sk-container-id-1 div.sk-parallel-item:only-child::after {width: 0;}#sk-container-id-1 div.sk-dashed-wrapped {border: 1px dashed gray;margin: 0 0.4em 0.5em 0.4em;box-sizing: border-box;padding-bottom: 0.4em;background-color: white;}#sk-container-id-1 div.sk-label label {font-family: monospace;font-weight: bold;display: inline-block;line-height: 1.2em;}#sk-container-id-1 div.sk-label-container {text-align: center;}#sk-container-id-1 div.sk-container {/* jupyter's `normalize.less` sets `[hidden] { display: none; }` but bootstrap.min.css set `[hidden] { display: none !important; }` so we also need the `!important` here to be able to override the default hidden behavior on the sphinx rendered scikit-learn.org. See: https://github.com/scikit-learn/scikit-learn/issues/21755 */display: inline-block !important;position: relative;}#sk-container-id-1 div.sk-text-repr-fallback {display: none;}</style><div id=\"sk-container-id-1\" class=\"sk-top-container\"><div class=\"sk-text-repr-fallback\"><pre>LogisticRegression()</pre><b>In a Jupyter environment, please rerun this cell to show the HTML representation or trust the notebook. <br />On GitHub, the HTML representation is unable to render, please try loading this page with nbviewer.org.</b></div><div class=\"sk-container\" hidden><div class=\"sk-item\"><div class=\"sk-estimator sk-toggleable\"><input class=\"sk-toggleable__control sk-hidden--visually\" id=\"sk-estimator-id-1\" type=\"checkbox\" checked><label for=\"sk-estimator-id-1\" class=\"sk-toggleable__label sk-toggleable__label-arrow\">LogisticRegression</label><div class=\"sk-toggleable__content\"><pre>LogisticRegression()</pre></div></div></div></div></div>"
            ]
          },
          "metadata": {},
          "execution_count": 123
        }
      ]
    },
    {
      "cell_type": "code",
      "source": [
        "from sklearn.linear_model import LinearRegression\n",
        "model1 = LinearRegression()"
      ],
      "metadata": {
        "id": "uYORaQ86F95e"
      },
      "id": "uYORaQ86F95e",
      "execution_count": 126,
      "outputs": []
    },
    {
      "cell_type": "code",
      "source": [
        "model1.fit(X,Y)"
      ],
      "metadata": {
        "colab": {
          "base_uri": "https://localhost:8080/",
          "height": 75
        },
        "id": "D_5dn69lGG9r",
        "outputId": "a29cb1e9-d109-4f32-ba4b-c539551216a7"
      },
      "id": "D_5dn69lGG9r",
      "execution_count": 127,
      "outputs": [
        {
          "output_type": "execute_result",
          "data": {
            "text/plain": [
              "LinearRegression()"
            ],
            "text/html": [
              "<style>#sk-container-id-2 {color: black;background-color: white;}#sk-container-id-2 pre{padding: 0;}#sk-container-id-2 div.sk-toggleable {background-color: white;}#sk-container-id-2 label.sk-toggleable__label {cursor: pointer;display: block;width: 100%;margin-bottom: 0;padding: 0.3em;box-sizing: border-box;text-align: center;}#sk-container-id-2 label.sk-toggleable__label-arrow:before {content: \"▸\";float: left;margin-right: 0.25em;color: #696969;}#sk-container-id-2 label.sk-toggleable__label-arrow:hover:before {color: black;}#sk-container-id-2 div.sk-estimator:hover label.sk-toggleable__label-arrow:before {color: black;}#sk-container-id-2 div.sk-toggleable__content {max-height: 0;max-width: 0;overflow: hidden;text-align: left;background-color: #f0f8ff;}#sk-container-id-2 div.sk-toggleable__content pre {margin: 0.2em;color: black;border-radius: 0.25em;background-color: #f0f8ff;}#sk-container-id-2 input.sk-toggleable__control:checked~div.sk-toggleable__content {max-height: 200px;max-width: 100%;overflow: auto;}#sk-container-id-2 input.sk-toggleable__control:checked~label.sk-toggleable__label-arrow:before {content: \"▾\";}#sk-container-id-2 div.sk-estimator input.sk-toggleable__control:checked~label.sk-toggleable__label {background-color: #d4ebff;}#sk-container-id-2 div.sk-label input.sk-toggleable__control:checked~label.sk-toggleable__label {background-color: #d4ebff;}#sk-container-id-2 input.sk-hidden--visually {border: 0;clip: rect(1px 1px 1px 1px);clip: rect(1px, 1px, 1px, 1px);height: 1px;margin: -1px;overflow: hidden;padding: 0;position: absolute;width: 1px;}#sk-container-id-2 div.sk-estimator {font-family: monospace;background-color: #f0f8ff;border: 1px dotted black;border-radius: 0.25em;box-sizing: border-box;margin-bottom: 0.5em;}#sk-container-id-2 div.sk-estimator:hover {background-color: #d4ebff;}#sk-container-id-2 div.sk-parallel-item::after {content: \"\";width: 100%;border-bottom: 1px solid gray;flex-grow: 1;}#sk-container-id-2 div.sk-label:hover label.sk-toggleable__label {background-color: #d4ebff;}#sk-container-id-2 div.sk-serial::before {content: \"\";position: absolute;border-left: 1px solid gray;box-sizing: border-box;top: 0;bottom: 0;left: 50%;z-index: 0;}#sk-container-id-2 div.sk-serial {display: flex;flex-direction: column;align-items: center;background-color: white;padding-right: 0.2em;padding-left: 0.2em;position: relative;}#sk-container-id-2 div.sk-item {position: relative;z-index: 1;}#sk-container-id-2 div.sk-parallel {display: flex;align-items: stretch;justify-content: center;background-color: white;position: relative;}#sk-container-id-2 div.sk-item::before, #sk-container-id-2 div.sk-parallel-item::before {content: \"\";position: absolute;border-left: 1px solid gray;box-sizing: border-box;top: 0;bottom: 0;left: 50%;z-index: -1;}#sk-container-id-2 div.sk-parallel-item {display: flex;flex-direction: column;z-index: 1;position: relative;background-color: white;}#sk-container-id-2 div.sk-parallel-item:first-child::after {align-self: flex-end;width: 50%;}#sk-container-id-2 div.sk-parallel-item:last-child::after {align-self: flex-start;width: 50%;}#sk-container-id-2 div.sk-parallel-item:only-child::after {width: 0;}#sk-container-id-2 div.sk-dashed-wrapped {border: 1px dashed gray;margin: 0 0.4em 0.5em 0.4em;box-sizing: border-box;padding-bottom: 0.4em;background-color: white;}#sk-container-id-2 div.sk-label label {font-family: monospace;font-weight: bold;display: inline-block;line-height: 1.2em;}#sk-container-id-2 div.sk-label-container {text-align: center;}#sk-container-id-2 div.sk-container {/* jupyter's `normalize.less` sets `[hidden] { display: none; }` but bootstrap.min.css set `[hidden] { display: none !important; }` so we also need the `!important` here to be able to override the default hidden behavior on the sphinx rendered scikit-learn.org. See: https://github.com/scikit-learn/scikit-learn/issues/21755 */display: inline-block !important;position: relative;}#sk-container-id-2 div.sk-text-repr-fallback {display: none;}</style><div id=\"sk-container-id-2\" class=\"sk-top-container\"><div class=\"sk-text-repr-fallback\"><pre>LinearRegression()</pre><b>In a Jupyter environment, please rerun this cell to show the HTML representation or trust the notebook. <br />On GitHub, the HTML representation is unable to render, please try loading this page with nbviewer.org.</b></div><div class=\"sk-container\" hidden><div class=\"sk-item\"><div class=\"sk-estimator sk-toggleable\"><input class=\"sk-toggleable__control sk-hidden--visually\" id=\"sk-estimator-id-2\" type=\"checkbox\" checked><label for=\"sk-estimator-id-2\" class=\"sk-toggleable__label sk-toggleable__label-arrow\">LinearRegression</label><div class=\"sk-toggleable__content\"><pre>LinearRegression()</pre></div></div></div></div></div>"
            ]
          },
          "metadata": {},
          "execution_count": 127
        }
      ]
    },
    {
      "cell_type": "markdown",
      "source": [
        "**Model evaluation**\n"
      ],
      "metadata": {
        "id": "2tUN91S50Mw0"
      },
      "id": "2tUN91S50Mw0"
    },
    {
      "cell_type": "code",
      "source": [
        "#Logistic Regression Evaluation\n",
        "model.score(X_train,Y_train)"
      ],
      "metadata": {
        "colab": {
          "base_uri": "https://localhost:8080/"
        },
        "id": "u42qU41quW3S",
        "outputId": "07605f27-7071-46d9-fa93-d84a3e2ee3ec"
      },
      "id": "u42qU41quW3S",
      "execution_count": 124,
      "outputs": [
        {
          "output_type": "execute_result",
          "data": {
            "text/plain": [
              "0.9831125"
            ]
          },
          "metadata": {},
          "execution_count": 124
        }
      ]
    },
    {
      "cell_type": "code",
      "source": [
        "model.score(X_test,Y_test)"
      ],
      "metadata": {
        "colab": {
          "base_uri": "https://localhost:8080/"
        },
        "id": "DSdjFBvW0To7",
        "outputId": "6ff93d87-1716-41cb-8600-d1846d091a51"
      },
      "id": "DSdjFBvW0To7",
      "execution_count": 125,
      "outputs": [
        {
          "output_type": "execute_result",
          "data": {
            "text/plain": [
              "0.9818"
            ]
          },
          "metadata": {},
          "execution_count": 125
        }
      ]
    },
    {
      "cell_type": "code",
      "source": [
        "#Linear Regression Evaluation\n",
        "model1.score(X_train, Y_train)"
      ],
      "metadata": {
        "colab": {
          "base_uri": "https://localhost:8080/"
        },
        "id": "YnOvx0i5GSBV",
        "outputId": "7a87ed93-7571-48dd-eb9d-468b56de4549"
      },
      "id": "YnOvx0i5GSBV",
      "execution_count": 128,
      "outputs": [
        {
          "output_type": "execute_result",
          "data": {
            "text/plain": [
              "0.007507962827357995"
            ]
          },
          "metadata": {},
          "execution_count": 128
        }
      ]
    },
    {
      "cell_type": "code",
      "source": [
        "model.score(X_test, Y_test)"
      ],
      "metadata": {
        "colab": {
          "base_uri": "https://localhost:8080/"
        },
        "id": "dK8iWPWXGZnH",
        "outputId": "0d806274-0a09-4cbc-a43c-3106faeca2e6"
      },
      "id": "dK8iWPWXGZnH",
      "execution_count": 129,
      "outputs": [
        {
          "output_type": "execute_result",
          "data": {
            "text/plain": [
              "0.9818"
            ]
          },
          "metadata": {},
          "execution_count": 129
        }
      ]
    },
    {
      "cell_type": "markdown",
      "source": [
        "**Best Model**"
      ],
      "metadata": {
        "id": "3nFVDCEYGpKq"
      },
      "id": "3nFVDCEYGpKq"
    },
    {
      "cell_type": "markdown",
      "source": [
        "The logistic regression model is giving 98% accuracy working with the test data."
      ],
      "metadata": {
        "id": "99ZwEGgIFa3J"
      },
      "id": "99ZwEGgIFa3J"
    }
  ],
  "metadata": {
    "kernelspec": {
      "display_name": "Python 3 (ipykernel)",
      "language": "python",
      "name": "python3"
    },
    "language_info": {
      "codemirror_mode": {
        "name": "ipython",
        "version": 3
      },
      "file_extension": ".py",
      "mimetype": "text/x-python",
      "name": "python",
      "nbconvert_exporter": "python",
      "pygments_lexer": "ipython3",
      "version": "3.10.5"
    },
    "colab": {
      "provenance": []
    }
  },
  "nbformat": 4,
  "nbformat_minor": 5
}